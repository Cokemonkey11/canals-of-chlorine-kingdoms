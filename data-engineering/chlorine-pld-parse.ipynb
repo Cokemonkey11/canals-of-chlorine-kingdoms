{
 "cells": [
  {
   "cell_type": "code",
   "execution_count": 1,
   "id": "9c0236ef-f099-4ba2-a309-78da77005121",
   "metadata": {},
   "outputs": [
    {
     "name": "stdout",
     "output_type": "stream",
     "text": [
      "chlorine-stats-Flume-Roost-Scry-960-2.pld\n",
      "chlorine-stats-Flume-Roost-Scry-960-3.pld\n",
      "chlorine-stats-Grime-Molt-Opaque-997-2.pld\n"
     ]
    }
   ],
   "source": [
    "!mkdir -p tmp\n",
    "!cp ~/home/Documents/Warcraft\\ III/CustomMapData/Chlorine/* tmp/\n",
    "!ls tmp/"
   ]
  },
  {
   "cell_type": "code",
   "execution_count": 2,
   "id": "4df729c3-4d48-4d8d-9806-e31306cbd467",
   "metadata": {},
   "outputs": [
    {
     "name": "stdout",
     "output_type": "stream",
     "text": [
      "function PreloadFiles takes nothing returns nothing\n",
      "\n",
      "\tcall PreloadStart()\n",
      "\tcall Preload( \"\")\n",
      "//v0PT02p2,Cokemonkey11#1442PT02p3,qwePT4S1p3,HeadbangerPT4S8Starter CircletPT10S1p2,MongoPT10S8Starter CircletPT15S8AmuletPT28S8SocksPT30S5p0,0,0p1,0,0p2,0,0p3,0,0p4,0,0p5,0,0p6,0,0p7,0,0p8,0,0p9,0,0PT\" )\n",
      "\tcall Preload( \"\")\n",
      "//1M0S6p2,0,0,1,0,p3,1,0,0,0PT1M0S5p0,0,0p1,149,149p2,199,176p3,515,515p4,0,0p5,0,...\n"
     ]
    }
   ],
   "source": [
    "from glob import glob\n",
    "from pathlib import Path\n",
    "\n",
    "file_contents = {}\n",
    "\n",
    "for file in glob(\"tmp/*.pld\"):\n",
    "    pfile = Path(file)\n",
    "    with open(pfile) as f:\n",
    "        file_contents[pfile.name] = f.read()\n",
    "\n",
    "sample = file_contents[list(file_contents.keys())[0]]\n",
    "print(sample[:400] + \"...\")"
   ]
  },
  {
   "cell_type": "code",
   "execution_count": 3,
   "id": "e367dfc7-4d06-4276-a496-76ca14e95885",
   "metadata": {},
   "outputs": [
    {
     "name": "stdout",
     "output_type": "stream",
     "text": [
      "v0PT02p2,Cokemonkey11#1442PT02p3,qwePT4S1p3,HeadbangerPT4S8Starter CircletPT10S1p2,MongoPT10S8Starter CircletPT15S8AmuletPT28S8SocksPT30S5p0,0,0p1,0,0p2,0,0p3,0,0p4,0,0p5,0,0p6,0,0p7,0,0p8,0,0p9,0,0PT1M0S6p2,0,0,1,0,p3,1,0,0,0PT1M0S5p0,0,0p1,149,149p2,199,176p3,515,515p4,0,0p5,0,0p6,0,0p7,0,0p8,0,0p9,0,0PT1M30S5p0,24,24p1,149,149p2,199,176p3,755,602p4,0,0p5,0,0p6,0,0p7,0,0p8,0,0p9,0,0PT2M0S6p2,0,0,2,1,p3,2,0,0,1PT2M0S5p0,59,59p1,289,289p2,640,176p3,1532,974p4,0,0p5,0,0p6,0,0p7,0,0p8,0,0p9,0,0PT2M30S5p0,134,134p1,612,612p2,798,176p3,2232,1178p4,0,0p5,0,0p6,0,0p7,0,0p8,0,0p9,0,0PT3M0S6p2,0,0,3,1,p3,3,0,0,4PT3M0S5p0,134,134p1,612,612p2,798,176p3,2987,1178p4,0,0p5,0,0p6,0,0p7,0,0p8,0,0p9,0,0PT3M30S5p0,149,149p1,1009,1009p2,1139,176p3,4110,1418p4,0,0p5,0,0p6,0,0p7,0,0p8,0,0p9,0,0PT4M0S6p2,0,0,4,4,p3,4,0,0,10PT4M0S5p0,224,224p1,1207,1207p2,1526,176p3,5209,1686p4,0,0p5,0,0p6,0,0p7,0,0p8,0,0p9,0,0PT4M30S5p0,224,224p1,1309,1309p2,1582,176p3,5864,1746p4,0,0p5,0,0p6,0,0p7,0,0p8,0,0p9,0,0PT5M0S6p2,0,0,6,5,p3,6,0,0,15PT5M0S5p0,374,374p1,1672,1672p2,1872,176p3,7062,1929p4,0,0p5,0,0p6,0,0p7,0,0p8,0,0p9,0,0PT5M30S5p0,944,944p1,1672,1672p2,1872,176p3,7988,1929p4,0,0p5,0,0p6,0,0p7,0,0p8,0,0p9,0,0PT6M0S6p2,0,0,6,5,p3,6,0,1,19PT6M0S5p0,944,944p1,1672,1672p2,1872,176p3,8499,1929p4,0,0p5,0,0p6,0,0p7,0,0p8,0,0p9,0,0PT6M30S5p0,952,952p1,1812,1812p2,2466,176p3,10265,2494p4,0,0p5,0,0p6,0,0p7,0,0p8,0,0p9,0,0PT6M44S4p0PT7M0S6p2,0,0,7,8,p3,7,0,1,23PT7M0S5p0,952,952p1,2037,2037p2,2831,176p3,10414,2494p4,0,0p5,0,0p6,0,0p7,0,0p8,0,0p9,0,0PT7M5S8ShoesPT7M30S5p0,952,952p1,2159,2159p2,3721,176p3,10826,2907p4,0,0p5,0,0p6,0,0p7,0,0p8,0,0p9,0,0PT8M0S6p2,0,0,8,11,p3,8,0,1,35PT8M0S5p0,1164,1164p1,2159,2159p2,3721,176p3,14100,2907p4,0,0p5,0,0p6,0,0p7,0,0p8,0,0p9,0,0PT8M10S4p0PT8M30S5p0,1164,1164p1,2339,2339p2,3896,176p3,17212,3466p4,0,0p5,0,0p6,0,0p7,0,0p8,0,0p9,0,0PT8M57S4p0PT9M0S6p2,0,0,10,11,p3,10,0,1,44PT9M0S5p0,1349,1349p1,2339,2339p2,4012,176p3,20211,4190p4,0,0p5,0,0p6,0,0p7,0,0p8,0,0p9,0,0PT9M30S5p0,1424,1424p1,2399,2399p2,4316,306p3,24669,5010p4,0,0p5,0,0p6,0,0p7,0,0p8,0,0p9,0,0PT10M0S6p2,0,0,12,13,p3,11,0,1,50PT10M0S5p0,1424,1424p1,3517,3517p2,5078,306p3,27444,5010p4,0,0p5,0,0p6,0,0p7,0,0p8,0,0p9,0,0PT10M12S3p1\n"
     ]
    }
   ],
   "source": [
    "def clean(file_content: str) -> str:\n",
    "    valid_lines = [line.strip() for line in file_content.split(\"\\n\") if line.startswith(\"//\")]\n",
    "    cleaned_lines = [line[2:len(line) - 3] for line in valid_lines]\n",
    "    return \"\".join(cleaned_lines)\n",
    "\n",
    "print(clean(sample))"
   ]
  },
  {
   "cell_type": "code",
   "execution_count": 4,
   "id": "e53a7466-e58d-4330-9e82-c4e51096d4a6",
   "metadata": {},
   "outputs": [
    {
     "name": "stdout",
     "output_type": "stream",
     "text": [
      "Schema version: 0\n",
      "Event(timestamp=datetime.timedelta(0), event_type=2, player=2, context=['Cokemonkey11#1442'])\n"
     ]
    },
    {
     "name": "stderr",
     "output_type": "stream",
     "text": [
      "/tmp/ipykernel_20175/395806520.py:61: UserWarning: Skipped 4S8Starter Circlet as malformed\n",
      "  warnings.warn(f\"Skipped {chunk} as malformed\")\n",
      "/tmp/ipykernel_20175/395806520.py:61: UserWarning: Skipped 10S8Starter Circlet as malformed\n",
      "  warnings.warn(f\"Skipped {chunk} as malformed\")\n",
      "/tmp/ipykernel_20175/395806520.py:61: UserWarning: Skipped 15S8Amulet as malformed\n",
      "  warnings.warn(f\"Skipped {chunk} as malformed\")\n",
      "/tmp/ipykernel_20175/395806520.py:61: UserWarning: Skipped 28S8Socks as malformed\n",
      "  warnings.warn(f\"Skipped {chunk} as malformed\")\n",
      "/tmp/ipykernel_20175/395806520.py:61: UserWarning: Skipped 7M5S8Shoes as malformed\n",
      "  warnings.warn(f\"Skipped {chunk} as malformed\")\n"
     ]
    }
   ],
   "source": [
    "from dataclasses import dataclass\n",
    "import datetime\n",
    "import isodate\n",
    "import warnings\n",
    "\n",
    "SchemaVersion = int\n",
    "\n",
    "EVENT_TYPE = {\n",
    "    0: \"None\",\n",
    "    1: \"ChooseHero\",\n",
    "    2: \"Identify\",\n",
    "    3: \"Win\",\n",
    "    4: \"TowerDeath\",\n",
    "    5: \"DamageSnapshot\",\n",
    "    6: \"StatSnapshot\",\n",
    "    7: \"PlayerLeave\",\n",
    "    8: \"GetItem\",\n",
    "}\n",
    "\n",
    "@dataclass\n",
    "class Event:\n",
    "    timestamp: datetime.timedelta\n",
    "    event_type: int\n",
    "    player: int\n",
    "    context: list[str]\n",
    "\n",
    "def parse_damage_snapshot(chunk: str) -> Event:\n",
    "    timestamp = chunk.split(\"S5\")[0] + \"S\"\n",
    "    context = chunk.split(\"S5\")[1]\n",
    "\n",
    "    return Event(timestamp=isodate.parse_duration(\"PT\" + timestamp), event_type=5, player=-1, context=[context])\n",
    "\n",
    "def parse_stat_snapshot(chunk: str) -> Event:\n",
    "    timestamp = chunk.split(\"S6\")[0] + \"S\"\n",
    "    context = chunk.split(\"S6\")[1]\n",
    "\n",
    "    return Event(timestamp=isodate.parse_duration(\"PT\" + timestamp), event_type=6, player=-1, context=[context])\n",
    "\n",
    "def parse(code: str) -> tuple[SchemaVersion, list[Event]]:\n",
    "    chunks = code.split(\"PT\") # TODO: use a streaming parser.\n",
    "\n",
    "    schema_version = int(chunks[0][1:])\n",
    "\n",
    "    events = []\n",
    "\n",
    "    for chunk in chunks[1:]:\n",
    "        if \"S5\" in chunk:\n",
    "            events.append(parse_damage_snapshot(chunk))\n",
    "            continue\n",
    "\n",
    "        if \"S6\" in chunk:\n",
    "            events.append(parse_stat_snapshot(chunk))\n",
    "            continue\n",
    "\n",
    "        timestamp_split = chunk.split(\"p\")\n",
    "\n",
    "        if not \"S\" in timestamp_split[0] and timestamp_split[0][0] == \"0\":\n",
    "            timestamp_split[0] = timestamp_split[0][0] + \"S\" + timestamp_split[0][1:]\n",
    "\n",
    "        if len(timestamp_split) == 1:\n",
    "            warnings.warn(f\"Skipped {chunk} as malformed\")\n",
    "            continue\n",
    "\n",
    "        timestamp = timestamp_split[0].split(\"S\")[0] + \"S\"\n",
    "\n",
    "        event_type = timestamp_split[0].split(\"S\")[1]\n",
    "\n",
    "        other = \"\".join(timestamp_split[1:])\n",
    "\n",
    "        if \"S\" in timestamp and not timestamp.endswith(\"S\") and len(timestamp.split(\"S\")) == 2:\n",
    "            timestamp_reproc = timestamp.split(\"S\")\n",
    "            timestamp = timestamp_reproc[0] + \"S\"\n",
    "\n",
    "            other = timestamp_reproc[1] + \",\" + other\n",
    "\n",
    "        player_split = other.split(\",\")\n",
    "\n",
    "        player = player_split[0]\n",
    "\n",
    "        context = player_split[1:]\n",
    "\n",
    "        timestamp_suffix = \"\" if timestamp.endswith(\"S\") else \"S\"\n",
    "\n",
    "        if event_type == '5':\n",
    "            print(chunk)\n",
    "\n",
    "        events.append(Event(timestamp=isodate.parse_duration(\"PT\" + timestamp + timestamp_suffix), event_type=int(event_type), player=int(player), context=context))\n",
    "\n",
    "    return (schema_version, events)\n",
    "\n",
    "schema_version, events = parse(clean(sample))\n",
    "print(f\"Schema version: {schema_version}\")\n",
    "\n",
    "print(str(events[0]))\n"
   ]
  },
  {
   "cell_type": "code",
   "execution_count": 5,
   "id": "93a65e2e-af64-4ca1-b7c9-0bdcaa680140",
   "metadata": {},
   "outputs": [
    {
     "name": "stdout",
     "output_type": "stream",
     "text": [
      "[\"['Cokemonkey11#1442']\", \"['qwe']\", \"['Headbanger']\", \"['Mongo']\", \"['p0,0,0p1,0,0p2,0,0p3,0,0p4,0,0p5,0,0p6,0,0p7,0,0p8,0,0p9,0,0']\", \"['p2,0,0,1,0,p3,1,0,0,0']\", \"['p0,0,0p1,149,149p2,199,176p3,515,515p4,0,0p5,0,0p6,0,0p7,0,0p8,0,0p9,0,0']\", \"['p0,24,24p1,149,149p2,199,176p3,755,602p4,0,0p5,0,0p6,0,0p7,0,0p8,0,0p9,0,0']\", \"['p2,0,0,2,1,p3,2,0,0,1']\", \"['p0,59,59p1,289,289p2,640,176p3,1532,974p4,0,0p5,0,0p6,0,0p7,0,0p8,0,0p9,0,0']\", \"['p0,134,134p1,612,612p2,798,176p3,2232,1178p4,0,0p5,0,0p6,0,0p7,0,0p8,0,0p9,0,0']\", \"['p2,0,0,3,1,p3,3,0,0,4']\", \"['p0,134,134p1,612,612p2,798,176p3,2987,1178p4,0,0p5,0,0p6,0,0p7,0,0p8,0,0p9,0,0']\", \"['p0,149,149p1,1009,1009p2,1139,176p3,4110,1418p4,0,0p5,0,0p6,0,0p7,0,0p8,0,0p9,0,0']\", \"['p2,0,0,4,4,p3,4,0,0,10']\", \"['p0,224,224p1,1207,1207p2,1526,176p3,5209,1686p4,0,0p5,0,0p6,0,0p7,0,0p8,0,0p9,0,0']\", \"['p0,224,224p1,1309,1309p2,1582,176p3,5864,1746p4,0,0p5,0,0p6,0,0p7,0,0p8,0,0p9,0,0']\", \"['p2,0,0,6,5,p3,6,0,0,15']\", \"['p0,374,374p1,1672,1672p2,1872,176p3,7062,1929p4,0,0p5,0,0p6,0,0p7,0,0p8,0,0p9,0,0']\", \"['p0,944,944p1,1672,1672p2,1872,176p3,7988,1929p4,0,0p5,0,0p6,0,0p7,0,0p8,0,0p9,0,0']\", \"['p2,0,0,6,5,p3,6,0,1,19']\", \"['p0,944,944p1,1672,1672p2,1872,176p3,8499,1929p4,0,0p5,0,0p6,0,0p7,0,0p8,0,0p9,0,0']\", \"['p0,952,952p1,1812,1812p2,2466,176p3,10265,2494p4,0,0p5,0,0p6,0,0p7,0,0p8,0,0p9,0,0']\", '[]', \"['p2,0,0,7,8,p3,7,0,1,23']\", \"['p0,952,952p1,2037,2037p2,2831,176p3,10414,2494p4,0,0p5,0,0p6,0,0p7,0,0p8,0,0p9,0,0']\", \"['p0,952,952p1,2159,2159p2,3721,176p3,10826,2907p4,0,0p5,0,0p6,0,0p7,0,0p8,0,0p9,0,0']\", \"['p2,0,0,8,11,p3,8,0,1,35']\", \"['p0,1164,1164p1,2159,2159p2,3721,176p3,14100,2907p4,0,0p5,0,0p6,0,0p7,0,0p8,0,0p9,0,0']\", '[]', \"['p0,1164,1164p1,2339,2339p2,3896,176p3,17212,3466p4,0,0p5,0,0p6,0,0p7,0,0p8,0,0p9,0,0']\", '[]', \"['p2,0,0,10,11,p3,10,0,1,44']\", \"['p0,1349,1349p1,2339,2339p2,4012,176p3,20211,4190p4,0,0p5,0,0p6,0,0p7,0,0p8,0,0p9,0,0']\", \"['p0,1424,1424p1,2399,2399p2,4316,306p3,24669,5010p4,0,0p5,0,0p6,0,0p7,0,0p8,0,0p9,0,0']\", \"['p2,0,0,12,13,p3,11,0,1,50']\", \"['p0,1424,1424p1,3517,3517p2,5078,306p3,27444,5010p4,0,0p5,0,0p6,0,0p7,0,0p8,0,0p9,0,0']\", '[]']\n"
     ]
    }
   ],
   "source": [
    "print([str(event.context) for event in events])"
   ]
  },
  {
   "cell_type": "code",
   "execution_count": 6,
   "id": "34f91316-abf7-4a7d-a68a-1408bca4d04c",
   "metadata": {},
   "outputs": [],
   "source": [
    "import json\n",
    "\n",
    "with open(\"cleaned.json\", \"w\") as f:\n",
    "    f.write(json.dumps([event.__dict__ for event in events], default=str))"
   ]
  },
  {
   "cell_type": "code",
   "execution_count": 7,
   "id": "c032baeb-f206-4458-9f48-560c6af3f109",
   "metadata": {},
   "outputs": [
    {
     "name": "stdout",
     "output_type": "stream",
     "text": [
      "Event(timestamp=datetime.timedelta(0), event_type=2, player=2, context=['Cokemonkey11#1442'])\n",
      "(2, 'Cokemonkey11')\n",
      "Event(timestamp=datetime.timedelta(seconds=4), event_type=1, player=3, context=['Headbanger'])\n",
      "(3, 'Headbanger')\n"
     ]
    }
   ],
   "source": [
    "# Player identity mapping\n",
    "player_identity_events = [event for event in events if event.event_type == 2]\n",
    "print(player_identity_events[0])\n",
    "player_identities = {identity_event.player: identity_event.context[0].split('#')[0] for identity_event in player_identity_events}\n",
    "print(list(player_identities.items())[0])\n",
    "\n",
    "# Player hero choice mapping\n",
    "hero_choice_events = [event for event in events if event.event_type == 1]\n",
    "print(hero_choice_events[0])\n",
    "player_heroes = {hero_event.player: hero_event.context[0] for hero_event in hero_choice_events}\n",
    "print(list(player_heroes.items())[0])"
   ]
  },
  {
   "cell_type": "code",
   "execution_count": 8,
   "id": "3e98f179-ad9c-4669-acd6-7c90cb6755fa",
   "metadata": {},
   "outputs": [
    {
     "name": "stdout",
     "output_type": "stream",
     "text": [
      "p0,0,0p1,0,0p2,0,0p3,0,0p4,0,0p5,0,0p6,0,0p7,0,0p8,0,0p9,0,0\n",
      "{'0': ('0', '0'), '1': ('0', '0'), '2': ('0', '0'), '3': ('0', '0'), '4': ('0', '0'), '5': ('0', '0'), '6': ('0', '0'), '7': ('0', '0'), '8': ('0', '0'), '9': ('0', '0')}\n"
     ]
    }
   ],
   "source": [
    "# Damage graph\n",
    "# !pip install matplotlib pandas seaborn\n",
    "import matplotlib.pyplot as pyplot\n",
    "import pandas\n",
    "import seaborn\n",
    "\n",
    "damage_snapshot_events = [event for event in events if event.event_type == 5]\n",
    "print(damage_snapshot_events[0].context[0])\n",
    "\n",
    "def parse_damage_snapshot_context(context: str) -> dict[int, tuple[int, int]]:\n",
    "    by_player = [cxt for cxt in context.split('p') if len(cxt)]\n",
    "    ret = {}\n",
    "    for triple in by_player:\n",
    "        ret[triple.split(',')[0]] = (triple.split(',')[1], triple.split(',')[2])\n",
    "\n",
    "    return ret\n",
    "\n",
    "print(parse_damage_snapshot_context(damage_snapshot_events[0].context[0]))\n",
    "\n",
    "data ={'time': [], 'player': [], 'damage': [], 'hero_damage': []}\n",
    "\n",
    "for damage_event_snapshot in damage_snapshot_events:\n",
    "    for player, (damage, hero_damage) in parse_damage_snapshot_context(damage_event_snapshot.context[0]).items():\n",
    "        if (int(damage) > 0 or int(hero_damage) > 0) and (int(player) > 1):\n",
    "            player_name = f\"{int(player) + 1} {player_identities.get(int(player))} ({player_heroes.get(int(player))})\"\n",
    "            data['time'].append(damage_event_snapshot.timestamp.total_seconds() / 60.0)\n",
    "            data['player'].append(player_name)\n",
    "            data['damage'].append(int(damage))\n",
    "            data['hero_damage'].append(int(hero_damage))\n",
    "\n",
    "df = pandas.DataFrame(data)\n",
    "\n",
    "seaborn.set_theme(style=\"dark\", palette='pastel', context='notebook')\n",
    "\n",
    "seaborn.lineplot(data=df, x='time', y='damage', hue='player', marker='o')\n",
    "pyplot.title('Cumulative damage over time by player')\n",
    "pyplot.xlabel('Time (minutes)')\n",
    "pyplot.ylabel('Cumulative damage')\n",
    "pyplot.savefig('damage.png', format='png', dpi=200)\n",
    "pyplot.close()\n",
    "\n",
    "# Hero damage\n",
    "seaborn.lineplot(data=df, x='time', y='hero_damage', hue='player', marker='o')\n",
    "pyplot.title('Damage dealt to enemy heroes, cumulative over time by player')\n",
    "pyplot.xlabel('Time (minutes)')\n",
    "pyplot.ylabel('Cumulative hero damage')\n",
    "pyplot.savefig('hero_damage.png', format='png', dpi=200)\n",
    "pyplot.close()"
   ]
  },
  {
   "cell_type": "code",
   "execution_count": 9,
   "id": "ac6d8349-c036-4076-8225-c700a2265ae7",
   "metadata": {},
   "outputs": [
    {
     "name": "stdout",
     "output_type": "stream",
     "text": [
      "Event(timestamp=datetime.timedelta(seconds=404), event_type=4, player=0, context=[])\n",
      "[[datetime.timedelta(seconds=404), datetime.timedelta(seconds=490), datetime.timedelta(seconds=537)], []]\n"
     ]
    }
   ],
   "source": [
    "# Tower death events\n",
    "tower_death_events = [event for event in events if event.event_type == 4]\n",
    "print(tower_death_events[0])\n",
    "\n",
    "tower_deaths = [[], []]  # Which timestamps did towers die for players 0, 1?\n",
    "\n",
    "for event in tower_death_events:\n",
    "    tower_deaths[event.player].append(event.timestamp)\n",
    "\n",
    "print(tower_deaths)"
   ]
  },
  {
   "cell_type": "code",
   "execution_count": 10,
   "id": "eec8f807-f71b-4f27-b8b2-bb0b70ef02f1",
   "metadata": {},
   "outputs": [
    {
     "name": "stdout",
     "output_type": "stream",
     "text": [
      "p2,0,0,1,0,p3,1,0,0,0\n",
      "{'2': ('0', '0', '1', '0'), '3': ('1', '0', '0', '0')}\n"
     ]
    }
   ],
   "source": [
    "# Resource graph\n",
    "\n",
    "stat_snapshot_events = [event for event in events if event.event_type == 6]\n",
    "print(stat_snapshot_events[0].context[0])\n",
    "\n",
    "def parse_stat_snapshot_context(context: str) -> dict[int, tuple[int, int, int, int]]:\n",
    "    by_player = [cxt for cxt in context.split('p') if len(cxt)]\n",
    "    ret = {}\n",
    "    for triple in by_player:\n",
    "        ret[triple.split(',')[0]] = (triple.split(',')[1], triple.split(',')[2], triple.split(',')[3], triple.split(',')[4])\n",
    "\n",
    "    return ret\n",
    "\n",
    "print(parse_stat_snapshot_context(stat_snapshot_events[0].context[0]))\n",
    "\n",
    "data ={'time': [], 'player_id': [], 'player': [], 'kills': [], 'assists': [], 'deaths': [], 'cs': [], 'gold_earned': []}\n",
    "\n",
    "for stat_event_snapshot in stat_snapshot_events:\n",
    "    for player, (kills, assists, deaths, cs) in parse_stat_snapshot_context(stat_event_snapshot.context[0]).items():\n",
    "        if (int(kills) > 0 or int(assists) > 0 or int(deaths) > 0 or int(cs) > 0) and (int(player) > 1):\n",
    "            time = stat_event_snapshot.timestamp\n",
    "            tower_deaths_so_far = len([death for death in tower_deaths[1 - (int(player) % 2)] if death < time])\n",
    "\n",
    "            player_name = f\"{int(player) + 1} {player_identities.get(int(player))} ({player_heroes.get(int(player))})\"\n",
    "            data['time'].append(stat_event_snapshot.timestamp.total_seconds() / 60.0)\n",
    "            data['player_id'].append(int(player))\n",
    "            data['player'].append(player_name)\n",
    "            data['kills'].append(int(kills))\n",
    "            data['assists'].append(int(assists))\n",
    "            data['deaths'].append(int(deaths))\n",
    "            data['cs'].append(int(cs))\n",
    "            data['gold_earned'].append(int(kills) * 10 + int(assists) * 5 + int(cs) + 10 * tower_deaths_so_far)\n",
    "\n",
    "df = pandas.DataFrame(data)\n",
    "\n",
    "unique_players = df['player_id'].unique()\n",
    "\n",
    "colors = {\n",
    "    player_id: seaborn.color_palette(\"Reds\", n_colors=len(unique_players))[i//2]\n",
    "    if player_id % 2 == 0\n",
    "    else seaborn.color_palette(\"Blues\", n_colors=len(unique_players))[i//2]\n",
    "    for i, player_id in enumerate(sorted(unique_players))\n",
    "}\n",
    "\n",
    "name_to_color = {name: colors[id] for name, id in zip(df['player'], df['player_id'])}\n",
    "\n",
    "seaborn.set_theme(style=\"dark\", palette='pastel', context='notebook')\n",
    "\n",
    "seaborn.lineplot(data=df, x='time', y='gold_earned', hue='player', palette=name_to_color, marker='o')\n",
    "pyplot.title('Cumulative gold (earned) over time by player')\n",
    "pyplot.xlabel('Time (minutes)')\n",
    "pyplot.ylabel('Cumulative gold (earned)')\n",
    "\n",
    "for time in tower_deaths[0]:\n",
    "    pyplot.axvline(x=time.total_seconds() / 60.0, color='red', linestyle='--', linewidth=0.5)\n",
    "    pyplot.text(time.total_seconds() / 60.0, 1, 'West tower death', color='red', horizontalalignment='right', fontsize=4, rotation=15)\n",
    "\n",
    "for time in tower_deaths[1]:\n",
    "    pyplot.axvline(x=time.total_seconds() / 60.0, color='blue', linestyle='--', linewidth=0.5)\n",
    "    pyplot.text(time.total_seconds() / 60.0, 1, 'East tower death', color='blue', horizontalalignment='right', fontsize=4, rotation=15)\n",
    "\n",
    "victories = [event for event in events if event.event_type == 3]\n",
    "if len(victories):\n",
    "    redblue = 'red' if victories[0].player == 0 else 'blue'\n",
    "    westeast = 'West' if victories[0].player == 0 else 'East'\n",
    "    pyplot.axvline(x=time.total_seconds() / 60.0, color=redblue, linestyle='--', linewidth=0.5)\n",
    "    pyplot.text(time.total_seconds() / 60.0, 1, f'{westeast} victory', color='blue', horizontalalignment='right', fontsize=4, rotation=15)\n",
    "\n",
    "pyplot.savefig('gold.png', format='png', dpi=200)\n",
    "pyplot.close()"
   ]
  }
 ],
 "metadata": {
  "kernelspec": {
   "display_name": "Python 3 (ipykernel)",
   "language": "python",
   "name": "python3"
  },
  "language_info": {
   "codemirror_mode": {
    "name": "ipython",
    "version": 3
   },
   "file_extension": ".py",
   "mimetype": "text/x-python",
   "name": "python",
   "nbconvert_exporter": "python",
   "pygments_lexer": "ipython3",
   "version": "3.9.19"
  }
 },
 "nbformat": 4,
 "nbformat_minor": 5
}
