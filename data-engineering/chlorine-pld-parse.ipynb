{
 "cells": [
  {
   "cell_type": "code",
   "execution_count": 13,
   "id": "9c0236ef-f099-4ba2-a309-78da77005121",
   "metadata": {},
   "outputs": [
    {
     "name": "stdout",
     "output_type": "stream",
     "text": [
      "mv: cannot stat '/home/b/home/Documents/Warcraft III/CustomMapData/Chlorine/*': No such file or directory\n",
      "-rwxrwxrwx 1 b b  2647 May  4 23:58 chlorine-stats-Flume-Roost-Scry-960-3.pld\n",
      "-rwxrwxrwx 1 b b  2647 May  4 23:58 chlorine-stats-Flume-Roost-Scry-960-2.pld\n",
      "-rwxrwxrwx 1 b b  6046 May  7 21:03 chlorine-stats-Fjord-Yarn-Niche-342-2.pld\n",
      "-rwxrwxrwx 1 b b 10998 May  7 21:43 chlorine-stats-Urge-Ploy-Joust-545-2.pld\n",
      "-rwxrwxrwx 1 b b  6871 May  7 22:41 chlorine-stats-Quaint--Quaint-804-2.pld\n",
      "-rwxrwxrwx 1 b b  4852 May  7 23:49 chlorine-stats-Crisp-Lilt-Ablaze-161-2.pld\n",
      "-rwxrwxrwx 1 b b  8663 May 14 22:05 chlorine-stats-Opaque-Niche-Pluck-982-2.pld\n",
      "-rwxrwxrwx 1 b b  4516 May 14 22:44 chlorine-stats-Roost-Mirth-Amble-692-2.pld\n",
      "-rwxrwxrwx 1 b b  6084 May 23 13:09 chlorine-stats-Bile-Nook-Oust-442-2.pld\n",
      "-rwxrwxrwx 1 b b 11405 May 23 20:51 chlorine-stats-Arch-Fjord-Flit-826-7.pld\n"
     ]
    }
   ],
   "source": [
    "!mv ~/home/Documents/Warcraft\\ III/CustomMapData/Chlorine/* raw/\n",
    "!ls -ltr raw/ | tail"
   ]
  },
  {
   "cell_type": "code",
   "execution_count": 2,
   "id": "4df729c3-4d48-4d8d-9806-e31306cbd467",
   "metadata": {},
   "outputs": [
    {
     "name": "stdout",
     "output_type": "stream",
     "text": [
      "function PreloadFiles takes nothing returns nothing\n",
      "\n",
      "\tcall PreloadStart()\n",
      "\tcall Preload( \"\")\n",
      "//v0PT02p2,Overkane#2142PT02p3,FunHD#21324PT02p4,KapaTeJlb#21320PT02p5,ScorpioD1#2338PT02p6,Shymom#1730PT02p7,Cokemonkey11#1442PT02p8,Nvleds#1934PT02p9,billabilla#2820PT16S1p8,Night HowlerPT16S8p8,Start\" )\n",
      "\tcall Preload( \"\")\n",
      "//er CircletPT18S1p3,Tauren GladiatorPT18S8p3,Starter CircletPT23S1p6,Space CadetP...\n"
     ]
    }
   ],
   "source": [
    "from glob import glob\n",
    "from pathlib import Path\n",
    "\n",
    "file_contents = {}\n",
    "\n",
    "for file in glob(\"raw/*.pld\"):\n",
    "    pfile = Path(file)\n",
    "    with open(pfile) as f:\n",
    "        file_contents[pfile.name] = f.read()\n",
    "\n",
    "sample = file_contents[[file for file in list(file_contents.keys()) if \"Arch-Fjord-\" in file][0]]\n",
    "print(sample[:400] + \"...\")"
   ]
  },
  {
   "cell_type": "code",
   "execution_count": 3,
   "id": "e367dfc7-4d06-4276-a496-76ca14e95885",
   "metadata": {},
   "outputs": [
    {
     "name": "stdout",
     "output_type": "stream",
     "text": [
      "v0PT02p2,Overkane#2142PT02p3,FunHD#21324PT02p4,KapaTeJlb#21320PT02p5,ScorpioD1#2338PT02p6,Shymom#1730PT02p7,Cokemonkey11#1442PT02p8,Nvleds#1934PT02p9,billabilla#2820PT16S1p8,Night HowlerPT16S8p8,Starter CircletPT18S1p3,Tauren GladiatorPT18S8p3,Starter CircletPT23S1p6,Space CadetPT23S8p6,Starter CircletPT28S1p2,Steel ElementalPT28S8p2,Starter CircletPT30S5p0,0,0p1,0,0p2,0,0p3,0,0p4,0,0p5,0,0p6,0,0p7,0,0p8,0,0p9,0,0PT42S1p5,HeadbangerPT42S8p5,Starter CircletPT44S1p7,SorcererPT44S8p7,Starter CircletPT45S1p4,Steel ElementalPT45S8p4,Starter CircletPT52S1p9,Void AnnihilatorPT52S8p9,Starter CircletPT52S8p6,GemPT53S8p7,AmuletPT1M0S6p2,0,0,0,0,p8,0,0,0,0,p6,0,0,0,0,p4,0,0,0,0,p9,0,0,0,0,p3,0,0,0,0,p5,0,0,0,0,p7,0,0,0,0PT1M0S5p0,0,0p1,0,0p2,0,0p3,0,0p4,0,0p5,0,0p6,0,0p7,0,0p8,0,0p9,0,0PT1M30S5p0,42,42p1,56,56p2,0,0p3,0,0p4,26,0p5,0,0p6,0,0p7,284,0p8,49,0p9,0,0PT1M38S8p2,HatPT2M0S6p2,0,0,0,1,p8,0,0,0,0,p6,0,0,0,1,p4,0,0,0,3,p9,0,0,0,1,p3,0,0,0,2,p5,0,0,0,0,p7,0,0,0,1PT2M0S5p0,255,255p1,296,296p2,154,0p3,114,0p4,445,77p5,576,474p6,631,358p7,1223,376p8,478,0p9,225,88PT2M15S8p4,GemPT2M30S5p0,1206,1206p1,410,410p2,154,0p3,488,150p4,1108,269p5,686,474p6,1603,358p7,2096,376p8,478,0p9,605,88PT3M0S6p2,0,0,0,1,p8,0,0,0,0,p6,0,0,0,5,p4,0,0,0,10,p9,0,0,1,2,p3,0,0,0,4,p5,0,0,0,0,p7,0,0,0,5PT3M0S5p0,1310,1310p1,517,517p2,154,0p3,607,210p4,1673,346p5,686,474p6,1900,358p7,2859,376p8,478,0p9,605,88PT3M1S8p9,RingPT3M30S5p0,1613,1613p1,685,685p2,154,0p3,1035,273p4,2498,624p5,990,616p6,2391,618p7,2859,376p8,478,0p9,758,202PT4M0S6p2,0,0,0,1,p8,0,0,0,1,p6,2,1,0,6,p4,1,0,0,15,p9,0,0,1,6,p3,0,0,1,6,p5,0,0,1,0,p7,0,0,1,5PT4M0S5p0,1932,1932p1,853,853p2,874,265p3,1035,273p4,2645,624p5,990,616p6,2601,828p7,3053,570p8,1142,109p9,1360,248PT4M30S5p0,2421,2421p1,917,917p2,953,265p3,1236,273p4,2645,624p5,1706,870p6,2656,883p7,4051,813p8,1450,333p9,2615,308PT5M0S6p2,0,1,0,3,p8,0,1,0,2,p6,4,1,0,6,p4,1,0,0,17,p9,0,0,2,10,p3,0,0,1,9,p5,0,0,2,1,p7,0,0,1,13PT5M0S5p0,2582,2582p1,1497,1497p2,953,265p3,1455,273p4,3458,624p5,1796,960p6,2953,1180p7,5457,813p8,1537,333p9,2615,308PT5M6S8p5,SocksPT5M8S4p0PT5M30S5p0,2733,2733p1,1742,1742p2,1457,265p3,1931,649p4,4003,1016p5,2207,1062p6,2953,1180p7,5917,813p8,2063,333p9,3368,308PT5M50S8p3,AmuletPT6M0S6p2,0,1,0,4,p8,0,1,0,5,p6,4,2,1,6,p4,2,0,0,17,p9,1,0,2,13,p3,0,0,2,10,p5,0,1,2,3,p7,0,0,1,15PT6M0S5p0,3194,3194p1,2218,2218p2,1478,265p3,2119,649p4,4003,1016p5,2556,1122p6,3331,1558p7,6755,1327p8,2609,615p9,4036,323PT6M30S5p0,3274,3274p1,2478,2478p2,1533,265p3,2533,799p4,4550,1375p5,2556,1122p6,3331,1558p7,6818,1327p8,2814,615p9,5018,323PT7M0S6p2,1,1,0,9,p8,0,1,0,6,p6,4,3,1,6,p4,2,0,0,20,p9,1,0,3,13,p3,0,0,2,13,p5,0,1,2,7,p7,0,0,1,15PT7M0S5p0,3428,3428p1,2577,2577p2,2262,557p3,2713,799p4,4783,1375p5,3014,1122p6,3388,1558p7,6818,1327p8,2814,615p9,5066,323PT7M30S5p0,3566,3566p1,2864,2864p2,2576,557p3,3089,799p4,4990,1375p5,3258,1212p6,4787,1879p7,7052,1327p8,3072,821p9,6444,323PT8M0S6p2,1,1,0,12,p8,2,1,0,6,p6,5,4,1,11,p4,2,0,1,22,p9,1,0,3,22,p3,0,0,3,17,p5,0,1,3,7,p7,1,0,2,16PT8M0S5p0,3679,3679p1,2949,2949p2,2576,557p3,3864,1230p4,5065,1450p5,3258,1212p6,5922,2330p7,7962,2237p8,3531,1280p9,7276,323PT8M30S5p0,4127,4127p1,2998,2998p2,2793,557p3,3864,1230p4,5065,1450p5,3607,1212p6,5974,2330p7,8535,2237p8,3531,1280p9,8671,323PT9M0S6p2,1,1,0,15,p8,2,1,0,6,p6,5,4,1,12,p4,2,0,1,22,p9,1,0,3,31,p3,0,0,3,20,p5,0,1,3,9,p7,1,0,2,21PT9M0S5p0,4332,4332p1,3206,3206p2,3054,557p3,4570,1230p4,5065,1450p5,3678,1212p6,5974,2330p7,10168,2629p8,3789,1380p9,10137,323PT9M7S4p0PT9M22S8p8,SocksPT9M30S5p0,4507,4507p1,3653,3653p2,3458,961p3,4994,1543p4,5409,1450p5,3837,1212p6,6927,2984p7,11234,2911p8,3841,1380p9,10242,323PT9M56S8p6,Natural ForcePT10M0S6p2,1,2,1,16,p8,2,2,0,6,p6,7,4,2,12,p4,2,0,2,23,p9,1,2,4,31,p3,2,1,3,20,p5,1,2,3,11,p7,1,3,3,21PT10M0S5p0,4507,4507p1,4084,4084p2,4936,1394p3,5541,2090p4,5688,1729p5,4201,1220p6,6927,2984p7,11234,2911p8,3841,1380p9,10242,323PT10M30S5p0,4804,4804p1,4412,4412p2,4954,1394p3,5541,2090p4,5688,1729p5,4842,1220p6,6985,2984p7,11772,3449p8,4075,1557p9,12250,323PT10M42S4p0PT10M45S4p0PT11M0S6p2,1,3,1,17,p8,2,2,0,6,p6,8,4,2,17,p4,2,0,2,24,p9,1,2,4,41,p3,2,1,3,22,p5,1,2,3,16,p7,1,3,4,21PT11M0S5p0,5527,5527p1,4606,4606p2,5090,1394p3,5949,2090p4,6397,1804p5,5469,1220p6,8307,3362p7,11772,3449p8,4075,1557p9,13465,323PT11M19S4p0PT11M30S5p0,5661,5661p1,4851,4851p2,5450,1754p3,6229,2335p4,6397,1804p5,5469,1220p6,8967,4022p7,11994,3671p8,4075,1557p9,15644,323PT11M43S9p0PT11M47S8p7,GlobePT11M48S4p1PT12M0S6p2,2,4,1,22,p8,2,4,0,9,p6,8,5,2,18,p4,3,1,2,27,p9,1,2,4,52,p3,2,1,4,24,p5,1,2,3,16,p7,1,3,5,21PT12M0S5p0,5855,5855p1,5858,5858p2,6951,1754p3,6229,2335p4,7789,2026p5,5951,1702p6,10114,4022p7,12000,3677p8,4520,1557p9,17340,323PT12M27S8p3,Natural ForcePT12M30S5p0,6335,6335p1,6009,6009p2,7640,1754p3,6229,2335p4,7789,2026p5,6048,1799p6,10114,4022p7,14815,3943p8,4818,1854p9,18266,323PT12M51S8p5,DecimatorPT13M0S6p2,2,5,1,26,p8,2,4,1,10,p6,9,5,2,25,p4,3,1,3,35,p9,1,3,5,56,p3,2,2,4,24,p5,2,3,3,16,p7,2,4,5,34PT13M0S5p0,6394,6394p1,6871,6871p2,7640,1754p3,6229,2335p4,10210,2026p5,6048,1799p6,11743,4210p7,15275,3943p8,5273,1854p9,18894,523PT13M3S8p9,Natural ForcePT13M11S4p1PT13M30S5p0,6611,6611p1,7913,7913p2,8662,1754p3,6229,2335p4,10380,2026p5,6436,1874p6,12942,4626p7,15674,3943p8,6222,2413p9,18894,523PT14M0S6p2,2,5,1,32,p8,2,4,1,11,p6,10,5,3,28,p4,3,1,3,36,p9,1,3,5,60,p3,2,3,4,24,p5,3,3,4,17,p7,2,5,5,40PT14M0S5p0,6738,6738p1,8193,8193p2,10031,2607p3,6303,2335p4,10380,2026p5,6840,2277p6,13972,5044p7,17834,4557p8,6222,2413p9,20495,1153PT14M30S5p0,7093,7093p1,8439,8439p2,10031,2607p3,7083,2335p4,10868,2026p5,7300,2620p6,14498,5170p7,19822,5095p8,6572,2764p9,21244,1153PT15M0S6p2,2,6,2,33,p8,2,4,2,11,p6,11,5,3,36,p4,3,2,3,44,p9,1,5,5,64,p3,2,4,4,32,p5,4,3,4,18,p7,3,5,6,42PT15M0S5p0,7131,7131p1,9286,9286p2,10106,2607p3,7823,2335p4,13078,2026p5,7300,2620p6,16133,5408p7,20115,5388p8,6632,2764p9,21244,1153PT15M2S8p4,HelmetPT15M30S5p0,7131,7131p1,9862,9862p2,12577,3348p3,8679,3192p4,13078,2026p5,7467,2787p6,17138,6413p7,20271,5388p8,7025,2764p9,23893,1816PT15M41S4p0PT15M47S8p6,ShoesPT15M58S8p2,Natural ForcePT16M0S6p2,2,7,2,38,p8,2,6,3,14,p6,12,6,3,36,p4,4,3,4,47,p9,3,5,5,75,p3,2,5,5,32,p5,4,5,5,18,p7,3,6,6,43PT16M0S5p0,7302,7302p1,9999,9999p2,12577,3348p3,8679,3192p4,15562,3539p5,7664,2984p6,17138,6413p7,23311,6881p8,7025,2764p9,25875,3361PT16M30S5p0,7559,7559p1,10036,10036p2,12577,3348p3,8972,3192p4,15562,3539p5,7905,3111p6,19924,6413p7,24881,6881p8,8108,2939p9,27176,3561PT17M0S6p2,3,7,2,41,p8,3,6,4,17,p6,12,8,3,57,p4,4,4,4,52,p9,3,6,6,78,p3,3,5,5,33,p5,4,6,6,18,p7,3,7,6,52PT17M0S5p0,7636,7636p1,10740,10740p2,14387,4392p3,9933,3553p4,17376,3995p5,8058,3263p6,23598,6413p7,24881,6881p8,8774,3203p9,27208,3561PT17M10S4p1PT17M23S8p8,ExasperationPT17M30S5p0,7741,7741p1,10943,10943p2,16149,5553p3,10488,4108p4,19296,5299p5,8734,3940p6,25166,6868p7,27278,8620p8,8774,3203p9,27208,3561PT17M30S4p1PT18M0S6p2,5,9,2,44,p8,3,12,4,17,p6,14,10,3,61,p4,6,7,4,56,p9,3,6,7,81,p3,3,5,7,34,p5,4,6,7,18,p7,3,7,8,55PT18M0S5p0,7958,7958p1,11307,11307p2,16975,5928p3,10993,4552p4,20525,6377p5,9094,4299p6,29513,9904p7,27864,9206p8,8774,3203p9,28373,4146PT18M8S8p9,ExasperationPT18M12S4p1PT18M30S5p0,8153,8153p1,11860,11860p2,16975,5928p3,12153,5078p4,21303,6377p5,9503,4374p6,31118,9904p7,27864,9206p8,9313,3304p9,30012,4372PT18M31S8p4,HelmetPT18M54S8p6,ShoesPT19M0S6p2,5,9,2,57,p8,3,12,6,17,p6,14,10,3,66,p4,6,7,5,58,p9,4,7,7,85,p3,4,6,7,41,p5,4,7,7,21,p7,4,9,8,61PT19M0S5p0,8315,8315p1,12249,12249p2,21805,5928p3,12989,5078p4,21303,6377p5,9810,4503p6,31270,9904p7,29879,9587p8,9417,3408p9,30503,4547PT19M8S8p7,GlobePT19M14S8p2,HelmetPT19M30S5p0,8360,8360p1,12392,12392p2,21805,5928p3,14841,5078p4,21833,6377p5,10278,4503p6,34400,10545p7,29879,9587p8,9417,3408p9,30972,4547PT19M33S4p0PT19M57S4p0PT20M0S6p2,6,11,2,57,p8,3,15,6,18,p6,15,11,3,76,p4,7,9,5,64,p9,4,7,7,87,p3,4,6,8,54,p5,4,7,9,22,p7,4,9,8,62PT20M0S5p0,8407,8407p1,12816,12816p2,22434,6557p3,15713,5078p4,23076,7019p5,10490,4715p6,36602,12526p7,31537,11085p8,10254,3758p9,33497,4797PT20M19S9p1PT20M30S5p0,8737,8737p1,13251,13251p2,22665,6788p3,16873,5159p4,26119,7554p5,11065,5290p6,40862,13377p7,33740,13088p8,10815,4059p9,34932,5462PT20M41S4p1PT20M57S8p3,HelmetPT21M0S6p2,6,11,2,57,p8,3,17,6,18,p6,17,11,3,96,p4,7,11,6,70,p9,4,7,8,89,p3,5,6,8,57,p5,4,8,9,22,p7,4,9,9,68PT21M0S5p0,8763,8763p1,13602,13602p2,22759,6882p3,17284,5569p4,26475,7910p5,11533,5290p6,44190,13956p7,35617,13764p8,10815,4059p9,35262,5792PT21M30S5p0,8851,8851p1,14167,14167p2,24159,7520p3,17834,5869p4,29908,7910p5,11533,5290p6,48181,14301p7,35617,13764p8,10815,4059p9,36807,5792PT21M30S4p1PT22M0S6p2,6,13,2,60,p8,3,19,6,18,p6,19,11,3,111,p4,7,13,6,89,p9,4,7,8,98,p3,5,6,8,62,p5,4,8,10,22,p7,4,9,10,69PT22M0S5p0,9411,9411p1,14490,14490p2,24703,8064p3,19959,6811p4,31601,7910p5,11533,5290p6,51638,15867p7,36208,14181p8,11333,4576p9,40098,7078PT22M11S8p8,ShoesPT22M22S8p6,DecimatorPT22M25S4p1PT22M30S5p0,10196,10196p1,14750,14750p2,24797,8157p3,21537,7828p4,34072,7910p5,12294,5597p6,52130,16360p7,36908,14752p8,11981,5225p9,41880,7880PT22M52S9p1PT23M0S6p2,6,16,2,60,p8,3,22,7,18,p6,21,12,4,118,p4,8,15,6,98,p9,5,8,8,100,p3,6,6,9,65,p5,4,10,11,23,p7,4,11,11,70PT23M0S5p0,10309,10309p1,15550,15550p2,24797,8157p3,22380,8491p4,36816,8686p5,12560,5747p6,58295,19793p7,37657,15502p8,11981,5225p9,42249,7880PT23M6S8p4,HelmetPT23M30S5p0,10620,10620p1,15572,15572p2,24797,8157p3,22380,8491p4,36816,8686p5,13082,5747p6,60497,20195p7,39196,15502p8,12474,5718p9,42749,8130PT24M0S6p2,7,18,2,60,p8,5,23,8,24,p6,22,15,4,124,p4,8,19,6,98,p9,5,9,8,100,p3,6,7,10,65,p5,4,11,13,25,p7,5,11,12,82PT24M0S5p0,10780,10780p1,15815,15815p2,26703,9702p3,22380,8491p4,37114,8686p5,13286,5951p6,66142,23797p7,41807,16049p8,16709,7082p9,43327,8708PT24M2S3p0PT24M2S5p0,10811,10811p1,15815,15815p2,26848,9702p3,22380,8491p4,37263,8686p5,13286,5951p6,66635,23797p7,42223,16466p8,16709,7082p9,43727,8708PT24M2S6p2,7,18,2,60,p8,5,23,8,24,p6,22,15,4,124,p4,8,19,6,98,p9,5,9,8,101,p3,6,7,10,65,p5,4,11,13,25,p7,5,11,12,82\n"
     ]
    }
   ],
   "source": [
    "def clean(file_content: str) -> str:\n",
    "    valid_lines = [line.strip() for line in file_content.split(\"\\n\") if line.startswith(\"//\")]\n",
    "    cleaned_lines = [line[2:len(line) - 3] for line in valid_lines]\n",
    "    return \"\".join(cleaned_lines)\n",
    "\n",
    "print(clean(sample))"
   ]
  },
  {
   "cell_type": "code",
   "execution_count": 4,
   "id": "e53a7466-e58d-4330-9e82-c4e51096d4a6",
   "metadata": {},
   "outputs": [
    {
     "name": "stdout",
     "output_type": "stream",
     "text": [
      "Schema version: 0\n",
      "Event(timestamp=datetime.timedelta(0), event_type=2, player=2, context=['Overkane#2142'])\n"
     ]
    }
   ],
   "source": [
    "from dataclasses import dataclass\n",
    "import datetime\n",
    "import isodate\n",
    "import warnings\n",
    "\n",
    "SchemaVersion = int\n",
    "\n",
    "EVENT_TYPE = {\n",
    "    0: \"None\",\n",
    "    1: \"ChooseHero\",\n",
    "    2: \"Identify\",\n",
    "    3: \"Win\",\n",
    "    4: \"TowerDeath\",\n",
    "    5: \"DamageSnapshot\",\n",
    "    6: \"StatSnapshot\",\n",
    "    7: \"PlayerLeave\",\n",
    "    8: \"GetItem\",\n",
    "}\n",
    "\n",
    "@dataclass\n",
    "class Event:\n",
    "    timestamp: datetime.timedelta\n",
    "    event_type: int\n",
    "    player: int\n",
    "    context: list[str]\n",
    "\n",
    "def parse_damage_snapshot(chunk: str) -> Event:\n",
    "    timestamp = chunk.split(\"S5\")[0] + \"S\"\n",
    "    context = chunk.split(\"S5\")[1]\n",
    "\n",
    "    return Event(timestamp=isodate.parse_duration(\"PT\" + timestamp), event_type=5, player=-1, context=[context])\n",
    "\n",
    "def parse_stat_snapshot(chunk: str) -> Event:\n",
    "    timestamp = chunk.split(\"S6\")[0] + \"S\"\n",
    "    context = chunk.split(\"S6\")[1]\n",
    "\n",
    "    return Event(timestamp=isodate.parse_duration(\"PT\" + timestamp), event_type=6, player=-1, context=[context])\n",
    "\n",
    "def parse(code: str) -> tuple[SchemaVersion, list[Event]]:\n",
    "    chunks = code.split(\"PT\") # TODO: use a streaming parser.\n",
    "\n",
    "    schema_version = int(chunks[0][1:])\n",
    "\n",
    "    events = []\n",
    "\n",
    "    for chunk in chunks[1:]:\n",
    "        if \"S5\" in chunk:\n",
    "            events.append(parse_damage_snapshot(chunk))\n",
    "            continue\n",
    "\n",
    "        if \"S6\" in chunk:\n",
    "            events.append(parse_stat_snapshot(chunk))\n",
    "            continue\n",
    "\n",
    "        timestamp_split = chunk.split(\"p\")\n",
    "\n",
    "        if not \"S\" in timestamp_split[0] and timestamp_split[0][0] == \"0\":\n",
    "            timestamp_split[0] = timestamp_split[0][0] + \"S\" + timestamp_split[0][1:]\n",
    "\n",
    "        if len(timestamp_split) == 1:\n",
    "            warnings.warn(f\"Skipped {chunk} as malformed\")\n",
    "            continue\n",
    "\n",
    "        timestamp = timestamp_split[0].split(\"S\")[0] + \"S\"\n",
    "\n",
    "        event_type = timestamp_split[0].split(\"S\")[1]\n",
    "\n",
    "        other = \"\".join(timestamp_split[1:])\n",
    "\n",
    "        if \"S\" in timestamp and not timestamp.endswith(\"S\") and len(timestamp.split(\"S\")) == 2:\n",
    "            timestamp_reproc = timestamp.split(\"S\")\n",
    "            timestamp = timestamp_reproc[0] + \"S\"\n",
    "\n",
    "            other = timestamp_reproc[1] + \",\" + other\n",
    "\n",
    "        player_split = other.split(\",\")\n",
    "\n",
    "        player = player_split[0]\n",
    "\n",
    "        context = player_split[1:]\n",
    "\n",
    "        timestamp_suffix = \"\" if timestamp.endswith(\"S\") else \"S\"\n",
    "\n",
    "        if event_type == '5':\n",
    "            print(chunk)\n",
    "\n",
    "        events.append(Event(timestamp=isodate.parse_duration(\"PT\" + timestamp + timestamp_suffix), event_type=int(event_type), player=int(player), context=context))\n",
    "\n",
    "    return (schema_version, events)\n",
    "\n",
    "schema_version, events = parse(clean(sample))\n",
    "print(f\"Schema version: {schema_version}\")\n",
    "\n",
    "print(str(events[0]))\n"
   ]
  },
  {
   "cell_type": "code",
   "execution_count": 5,
   "id": "93a65e2e-af64-4ca1-b7c9-0bdcaa680140",
   "metadata": {},
   "outputs": [
    {
     "name": "stdout",
     "output_type": "stream",
     "text": [
      "[\"['Overkane#2142']\", \"['FunHD#21324']\", \"['KaaTeJlb#21320']\", \"['ScorioD1#2338']\", \"['Shymom#1730']\", \"['Cokemonkey11#1442']\", \"['Nvleds#1934']\", \"['billabilla#2820']\", \"['Night Howler']\", \"['Starter Circlet']\", \"['Tauren Gladiator']\", \"['Starter Circlet']\", \"['Sace Cadet']\", \"['Starter Circlet']\", \"['Steel Elemental']\", \"['Starter Circlet']\", \"['p0,0,0p1,0,0p2,0,0p3,0,0p4,0,0p5,0,0p6,0,0p7,0,0p8,0,0p9,0,0']\", \"['Headbanger']\", \"['Starter Circlet']\", \"['Sorcerer']\", \"['Starter Circlet']\", \"['Steel Elemental']\", \"['Starter Circlet']\", \"['Void Annihilator']\", \"['Starter Circlet']\", \"['Gem']\", \"['Amulet']\", \"['p2,0,0,0,0,p8,0,0,0,0,p6,0,0,0,0,p4,0,0,0,0,p9,0,0,0,0,p3,0,0,0,0,p5,0,0,0,0,p7,0,0,0,0']\", \"['p0,0,0p1,0,0p2,0,0p3,0,0p4,0,0p5,0,0p6,0,0p7,0,0p8,0,0p9,0,0']\", \"['p0,42,42p1,56,56p2,0,0p3,0,0p4,26,0p5,0,0p6,0,0p7,284,0p8,49,0p9,0,0']\", \"['Hat']\", \"['p2,0,0,0,1,p8,0,0,0,0,p6,0,0,0,1,p4,0,0,0,3,p9,0,0,0,1,p3,0,0,0,2,p5,0,0,0,0,p7,0,0,0,1']\", \"['p0,255,255p1,296,296p2,154,0p3,114,0p4,445,77p5,576,474p6,631,358p7,1223,376p8,478,0p9,225,88']\", \"['Gem']\", \"['p0,1206,1206p1,410,410p2,154,0p3,488,150p4,1108,269p5,686,474p6,1603,358p7,2096,376p8,478,0p9,605,88']\", \"['p2,0,0,0,1,p8,0,0,0,0,p6,0,0,0,5,p4,0,0,0,10,p9,0,0,1,2,p3,0,0,0,4,p5,0,0,0,0,p7,0,0,0,5']\", \"['p0,1310,1310p1,517,517p2,154,0p3,607,210p4,1673,346p5,686,474p6,1900,358p7,2859,376p8,478,0p9,605,88']\", \"['Ring']\", \"['p0,1613,1613p1,685,685p2,154,0p3,1035,273p4,2498,624p5,990,616p6,2391,618p7,2859,376p8,478,0p9,758,202']\", \"['p2,0,0,0,1,p8,0,0,0,1,p6,2,1,0,6,p4,1,0,0,15,p9,0,0,1,6,p3,0,0,1,6,p5,0,0,1,0,p7,0,0,1,5']\", \"['p0,1932,1932p1,853,853p2,874,265p3,1035,273p4,2645,624p5,990,616p6,2601,828p7,3053,570p8,1142,109p9,1360,248']\", \"['p0,2421,2421p1,917,917p2,953,265p3,1236,273p4,2645,624p5,1706,870p6,2656,883p7,4051,813p8,1450,333p9,2615,308']\", \"['p2,0,1,0,3,p8,0,1,0,2,p6,4,1,0,6,p4,1,0,0,17,p9,0,0,2,10,p3,0,0,1,9,p5,0,0,2,1,p7,0,0,1,13']\", \"['p0,2582,2582p1,1497,1497p2,953,265p3,1455,273p4,3458,624p5,1796,960p6,2953,1180p7,5457,813p8,1537,333p9,2615,308']\", \"['Socks']\", '[]', \"['p0,2733,2733p1,1742,1742p2,1457,265p3,1931,649p4,4003,1016p5,2207,1062p6,2953,1180p7,5917,813p8,2063,333p9,3368,308']\", \"['Amulet']\", \"['p2,0,1,0,4,p8,0,1,0,5,p6,4,2,1,6,p4,2,0,0,17,p9,1,0,2,13,p3,0,0,2,10,p5,0,1,2,3,p7,0,0,1,15']\", \"['p0,3194,3194p1,2218,2218p2,1478,265p3,2119,649p4,4003,1016p5,2556,1122p6,3331,1558p7,6755,1327p8,2609,615p9,4036,323']\", \"['p0,3274,3274p1,2478,2478p2,1533,265p3,2533,799p4,4550,1375p5,2556,1122p6,3331,1558p7,6818,1327p8,2814,615p9,5018,323']\", \"['p2,1,1,0,9,p8,0,1,0,6,p6,4,3,1,6,p4,2,0,0,20,p9,1,0,3,13,p3,0,0,2,13,p5,0,1,2,7,p7,0,0,1,15']\", \"['p0,3428,3428p1,2577,2577p2,2262,557p3,2713,799p4,4783,1375p5,3014,1122p6,3388,1558p7,6818,1327p8,2814,615p9,5066,323']\", \"['p0,3566,3566p1,2864,2864p2,2576,557p3,3089,799p4,4990,1375p5,3258,1212p6,4787,1879p7,7052,1327p8,3072,821p9,6444,323']\", \"['p2,1,1,0,12,p8,2,1,0,6,p6,5,4,1,11,p4,2,0,1,22,p9,1,0,3,22,p3,0,0,3,17,p5,0,1,3,7,p7,1,0,2,16']\", \"['p0,3679,3679p1,2949,2949p2,2576,557p3,3864,1230p4,5065,1450p5,3258,1212p6,5922,2330p7,7962,2237p8,3531,1280p9,7276,323']\", \"['p0,4127,4127p1,2998,2998p2,2793,557p3,3864,1230p4,5065,1450p5,3607,1212p6,5974,2330p7,8535,2237p8,3531,1280p9,8671,323']\", \"['p2,1,1,0,15,p8,2,1,0,6,p6,5,4,1,12,p4,2,0,1,22,p9,1,0,3,31,p3,0,0,3,20,p5,0,1,3,9,p7,1,0,2,21']\", \"['p0,4332,4332p1,3206,3206p2,3054,557p3,4570,1230p4,5065,1450p5,3678,1212p6,5974,2330p7,10168,2629p8,3789,1380p9,10137,323']\", '[]', \"['Socks']\", \"['p0,4507,4507p1,3653,3653p2,3458,961p3,4994,1543p4,5409,1450p5,3837,1212p6,6927,2984p7,11234,2911p8,3841,1380p9,10242,323']\", \"['Natural Force']\", \"['p2,1,2,1,16,p8,2,2,0,6,p6,7,4,2,12,p4,2,0,2,23,p9,1,2,4,31,p3,2,1,3,20,p5,1,2,3,11,p7,1,3,3,21']\", \"['p0,4507,4507p1,4084,4084p2,4936,1394p3,5541,2090p4,5688,1729p5,4201,1220p6,6927,2984p7,11234,2911p8,3841,1380p9,10242,323']\", \"['p0,4804,4804p1,4412,4412p2,4954,1394p3,5541,2090p4,5688,1729p5,4842,1220p6,6985,2984p7,11772,3449p8,4075,1557p9,12250,323']\", '[]', '[]', \"['p2,1,3,1,17,p8,2,2,0,6,p6,8,4,2,17,p4,2,0,2,24,p9,1,2,4,41,p3,2,1,3,22,p5,1,2,3,16,p7,1,3,4,21']\", \"['p0,5527,5527p1,4606,4606p2,5090,1394p3,5949,2090p4,6397,1804p5,5469,1220p6,8307,3362p7,11772,3449p8,4075,1557p9,13465,323']\", '[]', \"['p0,5661,5661p1,4851,4851p2,5450,1754p3,6229,2335p4,6397,1804p5,5469,1220p6,8967,4022p7,11994,3671p8,4075,1557p9,15644,323']\", '[]', \"['Globe']\", '[]', \"['p2,2,4,1,22,p8,2,4,0,9,p6,8,5,2,18,p4,3,1,2,27,p9,1,2,4,52,p3,2,1,4,24,p5,1,2,3,16,p7,1,3,5,21']\", \"['p0,5855,5855p1,5858,5858p2,6951,1754p3,6229,2335p4,7789,2026p5,5951,1702p6,10114,4022p7,12000,3677p8,4520,1557p9,17340,323']\", \"['Natural Force']\", \"['p0,6335,6335p1,6009,6009p2,7640,1754p3,6229,2335p4,7789,2026p5,6048,1799p6,10114,4022p7,14815,3943p8,4818,1854p9,18266,323']\", \"['Decimator']\", \"['p2,2,5,1,26,p8,2,4,1,10,p6,9,5,2,25,p4,3,1,3,35,p9,1,3,5,56,p3,2,2,4,24,p5,2,3,3,16,p7,2,4,5,34']\", \"['p0,6394,6394p1,6871,6871p2,7640,1754p3,6229,2335p4,10210,2026p5,6048,1799p6,11743,4210p7,15275,3943p8,5273,1854p9,18894,523']\", \"['Natural Force']\", '[]', \"['p0,6611,6611p1,7913,7913p2,8662,1754p3,6229,2335p4,10380,2026p5,6436,1874p6,12942,4626p7,15674,3943p8,6222,2413p9,18894,523']\", \"['p2,2,5,1,32,p8,2,4,1,11,p6,10,5,3,28,p4,3,1,3,36,p9,1,3,5,60,p3,2,3,4,24,p5,3,3,4,17,p7,2,5,5,40']\", \"['p0,6738,6738p1,8193,8193p2,10031,2607p3,6303,2335p4,10380,2026p5,6840,2277p6,13972,5044p7,17834,4557p8,6222,2413p9,20495,1153']\", \"['p0,7093,7093p1,8439,8439p2,10031,2607p3,7083,2335p4,10868,2026p5,7300,2620p6,14498,5170p7,19822,5095p8,6572,2764p9,21244,1153']\", \"['p2,2,6,2,33,p8,2,4,2,11,p6,11,5,3,36,p4,3,2,3,44,p9,1,5,5,64,p3,2,4,4,32,p5,4,3,4,18,p7,3,5,6,42']\", \"['p0,7131,7131p1,9286,9286p2,10106,2607p3,7823,2335p4,13078,2026p5,7300,2620p6,16133,5408p7,20115,5388p8,6632,2764p9,21244,1153']\", \"['Helmet']\", \"['p0,7131,7131p1,9862,9862p2,12577,3348p3,8679,3192p4,13078,2026p5,7467,2787p6,17138,6413p7,20271,5388p8,7025,2764p9,23893,1816']\", '[]', \"['Shoes']\", \"['Natural Force']\", \"['p2,2,7,2,38,p8,2,6,3,14,p6,12,6,3,36,p4,4,3,4,47,p9,3,5,5,75,p3,2,5,5,32,p5,4,5,5,18,p7,3,6,6,43']\", \"['p0,7302,7302p1,9999,9999p2,12577,3348p3,8679,3192p4,15562,3539p5,7664,2984p6,17138,6413p7,23311,6881p8,7025,2764p9,25875,3361']\", \"['p0,7559,7559p1,10036,10036p2,12577,3348p3,8972,3192p4,15562,3539p5,7905,3111p6,19924,6413p7,24881,6881p8,8108,2939p9,27176,3561']\", \"['p2,3,7,2,41,p8,3,6,4,17,p6,12,8,3,57,p4,4,4,4,52,p9,3,6,6,78,p3,3,5,5,33,p5,4,6,6,18,p7,3,7,6,52']\", \"['p0,7636,7636p1,10740,10740p2,14387,4392p3,9933,3553p4,17376,3995p5,8058,3263p6,23598,6413p7,24881,6881p8,8774,3203p9,27208,3561']\", '[]', \"['Exaseration']\", \"['p0,7741,7741p1,10943,10943p2,16149,5553p3,10488,4108p4,19296,5299p5,8734,3940p6,25166,6868p7,27278,8620p8,8774,3203p9,27208,3561']\", '[]', \"['p2,5,9,2,44,p8,3,12,4,17,p6,14,10,3,61,p4,6,7,4,56,p9,3,6,7,81,p3,3,5,7,34,p5,4,6,7,18,p7,3,7,8,55']\", \"['p0,7958,7958p1,11307,11307p2,16975,5928p3,10993,4552p4,20525,6377p5,9094,4299p6,29513,9904p7,27864,9206p8,8774,3203p9,28373,4146']\", \"['Exaseration']\", '[]', \"['p0,8153,8153p1,11860,11860p2,16975,5928p3,12153,5078p4,21303,6377p5,9503,4374p6,31118,9904p7,27864,9206p8,9313,3304p9,30012,4372']\", \"['Helmet']\", \"['Shoes']\", \"['p2,5,9,2,57,p8,3,12,6,17,p6,14,10,3,66,p4,6,7,5,58,p9,4,7,7,85,p3,4,6,7,41,p5,4,7,7,21,p7,4,9,8,61']\", \"['p0,8315,8315p1,12249,12249p2,21805,5928p3,12989,5078p4,21303,6377p5,9810,4503p6,31270,9904p7,29879,9587p8,9417,3408p9,30503,4547']\", \"['Globe']\", \"['Helmet']\", \"['p0,8360,8360p1,12392,12392p2,21805,5928p3,14841,5078p4,21833,6377p5,10278,4503p6,34400,10545p7,29879,9587p8,9417,3408p9,30972,4547']\", '[]', '[]', \"['p2,6,11,2,57,p8,3,15,6,18,p6,15,11,3,76,p4,7,9,5,64,p9,4,7,7,87,p3,4,6,8,54,p5,4,7,9,22,p7,4,9,8,62']\", \"['p0,8407,8407p1,12816,12816p2,22434,6557p3,15713,5078p4,23076,7019p5,10490,4715p6,36602,12526p7,31537,11085p8,10254,3758p9,33497,4797']\", '[]', \"['p0,8737,8737p1,13251,13251p2,22665,6788p3,16873,5159p4,26119,7554p5,11065,5290p6,40862,13377p7,33740,13088p8,10815,4059p9,34932,5462']\", '[]', \"['Helmet']\", \"['p2,6,11,2,57,p8,3,17,6,18,p6,17,11,3,96,p4,7,11,6,70,p9,4,7,8,89,p3,5,6,8,57,p5,4,8,9,22,p7,4,9,9,68']\", \"['p0,8763,8763p1,13602,13602p2,22759,6882p3,17284,5569p4,26475,7910p5,11533,5290p6,44190,13956p7,35617,13764p8,10815,4059p9,35262,5792']\", \"['p0,8851,8851p1,14167,14167p2,24159,7520p3,17834,5869p4,29908,7910p5,11533,5290p6,48181,14301p7,35617,13764p8,10815,4059p9,36807,5792']\", '[]', \"['p2,6,13,2,60,p8,3,19,6,18,p6,19,11,3,111,p4,7,13,6,89,p9,4,7,8,98,p3,5,6,8,62,p5,4,8,10,22,p7,4,9,10,69']\", \"['p0,9411,9411p1,14490,14490p2,24703,8064p3,19959,6811p4,31601,7910p5,11533,5290p6,51638,15867p7,36208,14181p8,11333,4576p9,40098,7078']\", \"['Shoes']\", \"['Decimator']\", '[]', \"['p0,10196,10196p1,14750,14750p2,24797,8157p3,21537,7828p4,34072,7910p5,12294,5597p6,52130,16360p7,36908,14752p8,11981,5225p9,41880,7880']\", '[]', \"['p2,6,16,2,60,p8,3,22,7,18,p6,21,12,4,118,p4,8,15,6,98,p9,5,8,8,100,p3,6,6,9,65,p5,4,10,11,23,p7,4,11,11,70']\", \"['p0,10309,10309p1,15550,15550p2,24797,8157p3,22380,8491p4,36816,8686p5,12560,5747p6,58295,19793p7,37657,15502p8,11981,5225p9,42249,7880']\", \"['Helmet']\", \"['p0,10620,10620p1,15572,15572p2,24797,8157p3,22380,8491p4,36816,8686p5,13082,5747p6,60497,20195p7,39196,15502p8,12474,5718p9,42749,8130']\", \"['p2,7,18,2,60,p8,5,23,8,24,p6,22,15,4,124,p4,8,19,6,98,p9,5,9,8,100,p3,6,7,10,65,p5,4,11,13,25,p7,5,11,12,82']\", \"['p0,10780,10780p1,15815,15815p2,26703,9702p3,22380,8491p4,37114,8686p5,13286,5951p6,66142,23797p7,41807,16049p8,16709,7082p9,43327,8708']\", '[]', \"['p0,10811,10811p1,15815,15815p2,26848,9702p3,22380,8491p4,37263,8686p5,13286,5951p6,66635,23797p7,42223,16466p8,16709,7082p9,43727,8708']\", \"['p2,7,18,2,60,p8,5,23,8,24,p6,22,15,4,124,p4,8,19,6,98,p9,5,9,8,101,p3,6,7,10,65,p5,4,11,13,25,p7,5,11,12,82']\"]\n"
     ]
    }
   ],
   "source": [
    "print([str(event.context) for event in events])"
   ]
  },
  {
   "cell_type": "code",
   "execution_count": 6,
   "id": "34f91316-abf7-4a7d-a68a-1408bca4d04c",
   "metadata": {},
   "outputs": [],
   "source": [
    "import json\n",
    "\n",
    "with open(\"cleaned.json\", \"w\") as f:\n",
    "    f.write(json.dumps([event.__dict__ for event in events], default=str))"
   ]
  },
  {
   "cell_type": "code",
   "execution_count": 7,
   "id": "c032baeb-f206-4458-9f48-560c6af3f109",
   "metadata": {},
   "outputs": [
    {
     "name": "stdout",
     "output_type": "stream",
     "text": [
      "Event(timestamp=datetime.timedelta(0), event_type=2, player=2, context=['Overkane#2142'])\n",
      "(2, 'Overkane')\n",
      "Event(timestamp=datetime.timedelta(seconds=16), event_type=1, player=8, context=['Night Howler'])\n",
      "(8, 'Night Howler')\n"
     ]
    }
   ],
   "source": [
    "# Player identity mapping\n",
    "# TODO: something is broken for name-processing when name contains \"p\" i.e. \"lep\"\n",
    "player_identity_events = [event for event in events if event.event_type == 2]\n",
    "print(player_identity_events[0])\n",
    "player_identities = {identity_event.player: identity_event.context[0].split('#')[0] for identity_event in player_identity_events}\n",
    "print(list(player_identities.items())[0])\n",
    "\n",
    "# Player hero choice mapping\n",
    "hero_choice_events = [event for event in events if event.event_type == 1]\n",
    "print(hero_choice_events[0])\n",
    "player_heroes = {hero_event.player: hero_event.context[0] for hero_event in hero_choice_events}\n",
    "print(list(player_heroes.items())[0])"
   ]
  },
  {
   "cell_type": "code",
   "execution_count": 8,
   "id": "3e98f179-ad9c-4669-acd6-7c90cb6755fa",
   "metadata": {},
   "outputs": [
    {
     "name": "stdout",
     "output_type": "stream",
     "text": [
      "p0,0,0p1,0,0p2,0,0p3,0,0p4,0,0p5,0,0p6,0,0p7,0,0p8,0,0p9,0,0\n",
      "{'0': ('0', '0'), '1': ('0', '0'), '2': ('0', '0'), '3': ('0', '0'), '4': ('0', '0'), '5': ('0', '0'), '6': ('0', '0'), '7': ('0', '0'), '8': ('0', '0'), '9': ('0', '0')}\n"
     ]
    }
   ],
   "source": [
    "# Damage graph\n",
    "# !pip install matplotlib pandas seaborn\n",
    "import matplotlib.pyplot as pyplot\n",
    "import pandas\n",
    "import seaborn\n",
    "\n",
    "damage_snapshot_events = [event for event in events if event.event_type == 5]\n",
    "print(damage_snapshot_events[0].context[0])\n",
    "\n",
    "def parse_damage_snapshot_context(context: str) -> dict[int, tuple[int, int]]:\n",
    "    by_player = [cxt for cxt in context.split('p') if len(cxt)]\n",
    "    ret = {}\n",
    "    for triple in by_player:\n",
    "        ret[triple.split(',')[0]] = (triple.split(',')[1], triple.split(',')[2])\n",
    "\n",
    "    return ret\n",
    "\n",
    "print(parse_damage_snapshot_context(damage_snapshot_events[0].context[0]))\n",
    "\n",
    "data ={'time': [], 'player': [], 'damage': [], 'hero_damage': []}\n",
    "\n",
    "for damage_event_snapshot in damage_snapshot_events:\n",
    "    for player, (damage, hero_damage) in parse_damage_snapshot_context(damage_event_snapshot.context[0]).items():\n",
    "        if (int(damage) > 0 or int(hero_damage) > 0) and (int(player) > 1):\n",
    "            player_name = f\"{int(player) + 1} {player_identities.get(int(player))} ({player_heroes.get(int(player))})\"\n",
    "            data['time'].append(damage_event_snapshot.timestamp.total_seconds() / 60.0)\n",
    "            data['player'].append(player_name)\n",
    "            data['damage'].append(int(damage))\n",
    "            data['hero_damage'].append(int(hero_damage))\n",
    "\n",
    "df = pandas.DataFrame(data)\n",
    "\n",
    "seaborn.set_theme(style=\"dark\", palette='pastel', context='notebook')\n",
    "\n",
    "seaborn.lineplot(data=df, x='time', y='damage', hue='player', marker='o')\n",
    "pyplot.title('Cumulative damage over time by player')\n",
    "pyplot.xlabel('Time (minutes)')\n",
    "pyplot.ylabel('Cumulative damage')\n",
    "pyplot.savefig('damage.png', format='png', dpi=200)\n",
    "pyplot.close()\n",
    "\n",
    "# Hero damage\n",
    "seaborn.lineplot(data=df, x='time', y='hero_damage', hue='player', marker='o')\n",
    "pyplot.title('Damage dealt to enemy heroes, cumulative over time by player')\n",
    "pyplot.xlabel('Time (minutes)')\n",
    "pyplot.ylabel('Cumulative hero damage')\n",
    "pyplot.savefig('hero_damage.png', format='png', dpi=200)\n",
    "pyplot.close()"
   ]
  },
  {
   "cell_type": "code",
   "execution_count": 9,
   "id": "ac6d8349-c036-4076-8225-c700a2265ae7",
   "metadata": {},
   "outputs": [
    {
     "name": "stdout",
     "output_type": "stream",
     "text": [
      "Event(timestamp=datetime.timedelta(seconds=308), event_type=4, player=0, context=[])\n",
      "[[datetime.timedelta(seconds=308), datetime.timedelta(seconds=547), datetime.timedelta(seconds=642), datetime.timedelta(seconds=645), datetime.timedelta(seconds=679), datetime.timedelta(seconds=941), datetime.timedelta(seconds=1173), datetime.timedelta(seconds=1197)], [datetime.timedelta(seconds=708), datetime.timedelta(seconds=791), datetime.timedelta(seconds=1030), datetime.timedelta(seconds=1050), datetime.timedelta(seconds=1092), datetime.timedelta(seconds=1241), datetime.timedelta(seconds=1290), datetime.timedelta(seconds=1345)]]\n"
     ]
    }
   ],
   "source": [
    "# Tower death events\n",
    "tower_death_events = [event for event in events if event.event_type == 4]\n",
    "print(tower_death_events[0])\n",
    "\n",
    "tower_deaths = [[], []]  # Which timestamps did towers die for players 0, 1?\n",
    "\n",
    "for event in tower_death_events:\n",
    "    tower_deaths[event.player].append(event.timestamp)\n",
    "\n",
    "print(tower_deaths)"
   ]
  },
  {
   "cell_type": "code",
   "execution_count": 10,
   "id": "eec8f807-f71b-4f27-b8b2-bb0b70ef02f1",
   "metadata": {},
   "outputs": [
    {
     "name": "stdout",
     "output_type": "stream",
     "text": [
      "p2,0,0,0,0,p8,0,0,0,0,p6,0,0,0,0,p4,0,0,0,0,p9,0,0,0,0,p3,0,0,0,0,p5,0,0,0,0,p7,0,0,0,0\n",
      "{'2': ('0', '0', '0', '0'), '8': ('0', '0', '0', '0'), '6': ('0', '0', '0', '0'), '4': ('0', '0', '0', '0'), '9': ('0', '0', '0', '0'), '3': ('0', '0', '0', '0'), '5': ('0', '0', '0', '0'), '7': ('0', '0', '0', '0')}\n"
     ]
    }
   ],
   "source": [
    "# Resource graph\n",
    "\n",
    "stat_snapshot_events = [event for event in events if event.event_type == 6]\n",
    "print(stat_snapshot_events[0].context[0])\n",
    "\n",
    "def parse_stat_snapshot_context(context: str) -> dict[int, tuple[int, int, int, int]]:\n",
    "    by_player = [cxt for cxt in context.split('p') if len(cxt)]\n",
    "    ret = {}\n",
    "    for triple in by_player:\n",
    "        ret[triple.split(',')[0]] = (triple.split(',')[1], triple.split(',')[2], triple.split(',')[3], triple.split(',')[4])\n",
    "\n",
    "    return ret\n",
    "\n",
    "print(parse_stat_snapshot_context(stat_snapshot_events[0].context[0]))\n",
    "\n",
    "data ={'time': [], 'player_id': [], 'player': [], 'kills': [], 'assists': [], 'deaths': [], 'cs': [], 'gold_earned': []}\n",
    "\n",
    "for stat_event_snapshot in stat_snapshot_events:\n",
    "    for player, (kills, assists, deaths, cs) in parse_stat_snapshot_context(stat_event_snapshot.context[0]).items():\n",
    "        if (int(kills) > 0 or int(assists) > 0 or int(deaths) > 0 or int(cs) > 0) and (int(player) > 1):\n",
    "            time = stat_event_snapshot.timestamp\n",
    "            tower_deaths_so_far = len([death for death in tower_deaths[1 - (int(player) % 2)] if death < time])\n",
    "\n",
    "            player_name = f\"{int(player) + 1} {player_identities.get(int(player))} ({player_heroes.get(int(player))})\"\n",
    "            data['time'].append(stat_event_snapshot.timestamp.total_seconds() / 60.0)\n",
    "            data['player_id'].append(int(player))\n",
    "            data['player'].append(player_name)\n",
    "            data['kills'].append(int(kills))\n",
    "            data['assists'].append(int(assists))\n",
    "            data['deaths'].append(int(deaths))\n",
    "            data['cs'].append(int(cs))\n",
    "            data['gold_earned'].append(int(kills) * 10 + int(assists) * 5 + int(cs) + 10 * tower_deaths_so_far)\n",
    "\n",
    "df = pandas.DataFrame(data)\n",
    "\n",
    "unique_players = df['player_id'].unique()\n",
    "\n",
    "colors = {\n",
    "    player_id: seaborn.color_palette(\"Reds\", n_colors=len(unique_players))[i//2]\n",
    "    if player_id % 2 == 0\n",
    "    else seaborn.color_palette(\"Blues\", n_colors=len(unique_players))[i//2]\n",
    "    for i, player_id in enumerate(sorted(unique_players))\n",
    "}\n",
    "\n",
    "name_to_color = {name: colors[id] for name, id in zip(df['player'], df['player_id'])}\n",
    "\n",
    "seaborn.set_theme(style=\"dark\", palette='pastel', context='notebook')\n",
    "\n",
    "seaborn.lineplot(data=df, x='time', y='gold_earned', hue='player', palette=name_to_color, marker='o')\n",
    "pyplot.title('Cumulative gold (earned) over time by player')\n",
    "pyplot.xlabel('Time (minutes)')\n",
    "pyplot.ylabel('Cumulative gold (earned)')\n",
    "\n",
    "for time in tower_deaths[0]:\n",
    "    pyplot.axvline(x=time.total_seconds() / 60.0, color='red', linestyle='--', linewidth=0.5)\n",
    "    pyplot.text(time.total_seconds() / 60.0, 1, 'West tower death', color='red', horizontalalignment='right', fontsize=4, rotation=15)\n",
    "\n",
    "for time in tower_deaths[1]:\n",
    "    pyplot.axvline(x=time.total_seconds() / 60.0, color='blue', linestyle='--', linewidth=0.5)\n",
    "    pyplot.text(time.total_seconds() / 60.0, 1, 'East tower death', color='blue', horizontalalignment='right', fontsize=4, rotation=15)\n",
    "\n",
    "victories = [event for event in events if event.event_type == 3]\n",
    "if len(victories):\n",
    "    redblue = 'red' if victories[0].player == 0 else 'blue'\n",
    "    westeast = 'West' if victories[0].player == 0 else 'East'\n",
    "    pyplot.axvline(x=time.total_seconds() / 60.0, color=redblue, linestyle='--', linewidth=0.5)\n",
    "    pyplot.text(time.total_seconds() / 60.0, 1, f'{westeast} victory', color='blue', horizontalalignment='right', fontsize=4, rotation=15)\n",
    "\n",
    "pyplot.savefig('gold.png', format='png', dpi=200)\n",
    "pyplot.close()"
   ]
  }
 ],
 "metadata": {
  "kernelspec": {
   "display_name": "Python 3 (ipykernel)",
   "language": "python",
   "name": "python3"
  },
  "language_info": {
   "codemirror_mode": {
    "name": "ipython",
    "version": 3
   },
   "file_extension": ".py",
   "mimetype": "text/x-python",
   "name": "python",
   "nbconvert_exporter": "python",
   "pygments_lexer": "ipython3",
   "version": "3.12.3"
  }
 },
 "nbformat": 4,
 "nbformat_minor": 5
}
