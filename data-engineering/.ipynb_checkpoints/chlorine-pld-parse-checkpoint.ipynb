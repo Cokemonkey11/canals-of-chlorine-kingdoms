{
 "cells": [
  {
   "cell_type": "code",
   "execution_count": 1,
   "id": "9c0236ef-f099-4ba2-a309-78da77005121",
   "metadata": {},
   "outputs": [
    {
     "name": "stdout",
     "output_type": "stream",
     "text": [
      "chlorine-stats-Crisp-Lilt-Ablaze-161-2.pld\n",
      "chlorine-stats-Fjord-Yarn-Niche-342-2.pld\n",
      "chlorine-stats-Flume-Roost-Scry-960-2.pld\n",
      "chlorine-stats-Flume-Roost-Scry-960-3.pld\n",
      "chlorine-stats-Grime-Molt-Opaque-997-2.pld\n",
      "chlorine-stats-Opaque-Niche-Pluck-982-2.pld\n",
      "chlorine-stats-Quaint--Quaint-804-2.pld\n",
      "chlorine-stats-Roost-Mirth-Amble-692-2.pld\n",
      "chlorine-stats-Urge-Ploy-Joust-545-2.pld\n",
      "Requirement already satisfied: isodate in /home/b/miniconda3/envs/python312/lib/python3.12/site-packages (from -r requirements.txt (line 1)) (0.6.1)\n",
      "Requirement already satisfied: matplotlib in /home/b/miniconda3/envs/python312/lib/python3.12/site-packages (from -r requirements.txt (line 2)) (3.9.0)\n",
      "Requirement already satisfied: pandas in /home/b/miniconda3/envs/python312/lib/python3.12/site-packages (from -r requirements.txt (line 3)) (2.2.2)\n",
      "Requirement already satisfied: seaborn in /home/b/miniconda3/envs/python312/lib/python3.12/site-packages (from -r requirements.txt (line 4)) (0.13.2)\n",
      "Requirement already satisfied: six in /home/b/miniconda3/envs/python312/lib/python3.12/site-packages (from isodate->-r requirements.txt (line 1)) (1.16.0)\n",
      "Requirement already satisfied: contourpy>=1.0.1 in /home/b/miniconda3/envs/python312/lib/python3.12/site-packages (from matplotlib->-r requirements.txt (line 2)) (1.2.1)\n",
      "Requirement already satisfied: cycler>=0.10 in /home/b/miniconda3/envs/python312/lib/python3.12/site-packages (from matplotlib->-r requirements.txt (line 2)) (0.12.1)\n",
      "Requirement already satisfied: fonttools>=4.22.0 in /home/b/miniconda3/envs/python312/lib/python3.12/site-packages (from matplotlib->-r requirements.txt (line 2)) (4.51.0)\n",
      "Requirement already satisfied: kiwisolver>=1.3.1 in /home/b/miniconda3/envs/python312/lib/python3.12/site-packages (from matplotlib->-r requirements.txt (line 2)) (1.4.5)\n",
      "Requirement already satisfied: numpy>=1.23 in /home/b/miniconda3/envs/python312/lib/python3.12/site-packages (from matplotlib->-r requirements.txt (line 2)) (1.26.4)\n",
      "Requirement already satisfied: packaging>=20.0 in /home/b/miniconda3/envs/python312/lib/python3.12/site-packages (from matplotlib->-r requirements.txt (line 2)) (24.0)\n",
      "Requirement already satisfied: pillow>=8 in /home/b/miniconda3/envs/python312/lib/python3.12/site-packages (from matplotlib->-r requirements.txt (line 2)) (10.3.0)\n",
      "Requirement already satisfied: pyparsing>=2.3.1 in /home/b/miniconda3/envs/python312/lib/python3.12/site-packages (from matplotlib->-r requirements.txt (line 2)) (3.1.2)\n",
      "Requirement already satisfied: python-dateutil>=2.7 in /home/b/miniconda3/envs/python312/lib/python3.12/site-packages (from matplotlib->-r requirements.txt (line 2)) (2.9.0.post0)\n",
      "Requirement already satisfied: pytz>=2020.1 in /home/b/miniconda3/envs/python312/lib/python3.12/site-packages (from pandas->-r requirements.txt (line 3)) (2024.1)\n",
      "Requirement already satisfied: tzdata>=2022.7 in /home/b/miniconda3/envs/python312/lib/python3.12/site-packages (from pandas->-r requirements.txt (line 3)) (2024.1)\n"
     ]
    }
   ],
   "source": [
    "!mkdir -p raw\n",
    "!cp ~/home/Documents/Warcraft\\ III/CustomMapData/Chlorine/* raw/\n",
    "!ls raw/\n",
    "!pip install -r requirements.txt"
   ]
  },
  {
   "cell_type": "code",
   "execution_count": 2,
   "id": "4df729c3-4d48-4d8d-9806-e31306cbd467",
   "metadata": {},
   "outputs": [
    {
     "name": "stdout",
     "output_type": "stream",
     "text": [
      "function PreloadFiles takes nothing returns nothing\n",
      "\n",
      "\tcall PreloadStart()\n",
      "\tcall Preload( \"\")\n",
      "//v0PT02p2,Cokemonkey11#1442PT02p3,redscores#2996PT02p4,TrickyHunter#1503684PT02p5,Dizzy#12119PT02p6,Eldrazor#2435PT02p7,Davout#11186PT5S1p4,Space CadetPT5S8p4,Starter CircletPT10S1p3,Tauren GladiatorPT\" )\n",
      "\tcall Preload( \"\")\n",
      "//10S8p3,Starter CircletPT13S1p7,Space CadetPT13S8p7,Starter CircletPT30S5p0,0,0p1...\n"
     ]
    }
   ],
   "source": [
    "from glob import glob\n",
    "from pathlib import Path\n",
    "\n",
    "file_contents = {}\n",
    "\n",
    "for file in glob(\"raw/*.pld\"):\n",
    "    pfile = Path(file)\n",
    "    with open(pfile) as f:\n",
    "        file_contents[pfile.name] = f.read()\n",
    "\n",
    "sample = file_contents[[file for file in list(file_contents.keys()) if \"Quaint-\" in file][0]]\n",
    "print(sample[:400] + \"...\")"
   ]
  },
  {
   "cell_type": "code",
   "execution_count": 3,
   "id": "e367dfc7-4d06-4276-a496-76ca14e95885",
   "metadata": {},
   "outputs": [
    {
     "name": "stdout",
     "output_type": "stream",
     "text": [
      "v0PT02p2,Cokemonkey11#1442PT02p3,redscores#2996PT02p4,TrickyHunter#1503684PT02p5,Dizzy#12119PT02p6,Eldrazor#2435PT02p7,Davout#11186PT5S1p4,Space CadetPT5S8p4,Starter CircletPT10S1p3,Tauren GladiatorPT10S8p3,Starter CircletPT13S1p7,Space CadetPT13S8p7,Starter CircletPT30S5p0,0,0p1,0,0p2,0,0p3,0,0p4,0,0p5,0,0p6,0,0p7,0,0p8,0,0p9,0,0PT49S1p2,MongoPT49S8p2,Starter CircletPT53S1p5,MongoPT53S8p5,Starter CircletPT1M0S5p0,0,0p1,0,0p2,0,0p3,0,0p4,0,0p5,0,0p6,0,0p7,0,0p8,0,0p9,0,0PT1M0S6p4,0,0,0,0,p2,0,0,0,0,p6,0,0,0,0,p3,0,0,0,0,p7,0,0,0,0,p5,0,0,0,0PT1M15S8p2,AmuletPT1M19S8p3,PigPT1M22S1p6,Molotov CockatielPT1M22S8p6,Starter CircletPT1M30S5p0,149,149p1,0,0p2,0,0p3,112,0p4,49,0p5,0,0p6,0,0p7,436,0p8,0,0p9,0,0PT1M54S8p6,AmuletPT2M0S5p0,550,550p1,87,87p2,130,130p3,913,225p4,196,0p5,53,0p6,198,53p7,1308,364p8,0,0p9,0,0PT2M0S6p4,0,0,0,1,p2,0,0,0,0,p6,0,0,0,1,p3,0,0,0,1,p7,0,0,0,1,p5,0,0,0,0PT2M30S5p0,936,936p1,374,374p2,183,130p3,1138,391p4,196,0p5,212,0p6,715,221p7,2520,364p8,0,0p9,0,0PT3M0S5p0,1101,1101p1,804,804p2,183,130p3,1138,391p4,661,209p5,350,75p6,1057,384p7,3308,420p8,0,0p9,0,0PT3M0S6p4,0,0,0,2,p2,0,0,1,0,p6,1,0,0,6,p3,1,0,0,1,p7,0,0,0,6,p5,0,0,1,2PT3M16S4p0PT3M30S5p0,1119,1119p1,914,914p2,349,130p3,1138,391p4,917,365p5,350,75p6,1272,384p7,3622,520p8,0,0p9,0,0PT4M0S5p0,1241,1241p1,1129,1129p2,641,264p3,1204,457p4,967,365p5,481,150p6,2111,482p7,4148,578p8,0,0p9,0,0PT4M0S6p4,0,0,0,3,p2,0,0,1,1,p6,1,0,0,14,p3,1,0,0,1,p7,0,0,0,10,p5,0,0,1,2PT4M27S8p5,GemPT4M30S5p0,2083,2083p1,1197,1197p2,997,369p3,1990,996p4,1179,577p5,1207,250p6,2171,542p7,5119,1110p8,0,0p9,0,0PT5M0S5p0,2238,2238p1,1197,1197p2,1067,369p3,2113,996p4,1523,577p5,1439,250p6,2171,542p7,5379,1110p8,0,0p9,0,0PT5M0S6p4,0,0,1,5,p2,0,0,2,2,p6,1,0,0,14,p3,2,0,0,2,p7,1,0,0,12,p5,0,0,1,6PT5M22S7p5PT5M30S5p0,2377,2377p1,1284,1284p2,1369,505p3,2713,996p4,1736,577p5,1439,250p6,3225,542p7,5841,1318p8,0,0p9,0,0PT6M0S5p0,2582,2582p1,1427,1427p2,1878,641p3,3247,1068p4,2106,843p5,1439,250p6,4282,542p7,6923,1704p8,0,0p9,0,0PT6M0S6p4,0,0,2,7,p2,0,0,2,6,p6,1,0,0,20,p3,2,0,0,6,p7,2,0,0,15,p5,0,0,1,6PT6M30S5p0,2762,2762p1,1564,1564p2,2550,641p3,3247,1068p4,2106,843p5,1439,250p6,4436,542p7,8057,1704p8,0,0p9,0,0PT7M0S5p0,2762,2762p1,1864,1864p2,3107,641p3,3247,1068p4,2486,843p5,1439,250p6,6002,542p7,8057,1704p8,0,0p9,0,0PT7M0S6p4,0,0,2,10,p2,0,0,2,12,p6,1,0,0,27,p3,2,0,0,6,p7,2,0,0,15,p5,0,0,1,6PT7M30S5p0,2960,2960p1,1967,1967p2,3317,851p3,3883,1440p4,3038,843p5,1439,250p6,7181,542p7,8215,1704p8,0,0p9,0,0PT7M35S4p1PT7M49S8p4,SocksPT8M0S5p0,3296,3296p1,2249,2249p2,3317,851p3,4212,1440p4,3277,977p5,1439,250p6,8854,542p7,9303,1972p8,0,0p9,0,0PT8M0S6p4,0,0,2,13,p2,0,0,3,12,p6,1,0,0,35,p3,3,0,0,8,p7,2,0,0,19,p5,0,0,1,6PT8M30S5p0,3561,3561p1,2277,2277p2,3632,851p3,4212,1440p4,3277,977p5,1439,250p6,8854,542p7,10138,1972p8,0,0p9,0,0PT9M0S5p0,3775,3775p1,2482,2482p2,4050,851p3,4606,1440p4,3459,977p5,1439,250p6,8913,542p7,10199,1972p8,0,0p9,0,0PT9M0S6p4,0,0,2,13,p2,0,0,3,16,p6,1,0,0,36,p3,3,0,0,9,p7,2,0,0,23,p5,0,0,1,6PT9M30S5p0,3969,3969p1,2929,2929p2,4547,851p3,4855,1590p4,4112,977p5,1439,250p6,11041,852p7,10199,1972p8,0,0p9,0,0PT9M44S4p1PT10M0S5p0,4114,4114p1,3032,3032p2,5583,1376p3,4855,1590p4,4526,977p5,1439,250p6,13207,852p7,11026,2677p8,0,0p9,0,0PT10M0S6p4,0,1,2,18,p2,1,1,3,19,p6,2,0,0,47,p3,3,0,1,9,p7,2,0,1,23,p5,0,0,1,6PT10M30S5p0,4159,4159p1,3202,3202p2,5583,1376p3,5405,1940p4,5132,1584p5,1439,250p6,13207,852p7,11026,2677p8,0,0p9,0,0PT11M0S5p0,4304,4304p1,3267,3267p2,5583,1376p3,5405,1940p4,5345,1797p5,1439,250p6,15504,1169p7,11409,3060p8,0,0p9,0,0PT11M0S6p4,1,1,2,18,p2,1,2,4,19,p6,2,0,0,51,p3,4,0,1,9,p7,2,1,2,23,p5,0,0,1,6PT11M7S4p1PT11M30S5p0,4304,4304p1,3267,3267p2,5583,1376p3,5614,1940p4,5345,1797p5,1439,250p6,15504,1169p7,11579,3060p8,0,0p9,0,0PT11M41S4p0PT12M0S5p0,5042,5042p1,3359,3359p2,5583,1376p3,6174,1940p4,5345,1797p5,1439,250p6,16071,1169p7,12367,3060p8,0,0p9,0,0PT12M0S6p4,1,1,2,18,p2,1,2,4,19,p6,2,0,0,53,p3,4,0,1,12,p7,2,1,2,26,p5,0,0,1,6PT12M30S5p0,5407,5407p1,3419,3419p2,5760,1553p3,6883,2515p4,5412,1797p5,1439,250p6,16937,1540p7,14363,3060p8,0,0p9,0,0PT12M46S8p7,HatPT13M0S5p0,5444,5444p1,3489,3489p2,5760,1553p3,6950,2515p4,5757,1797p5,1439,250p6,18961,1540p7,14363,3060p8,0,0p9,0,0PT13M0S6p4,1,2,2,19,p2,2,2,4,19,p6,2,0,1,63,p3,5,0,2,13,p7,2,2,3,33,p5,0,1,1,6PT13M11S8p6,Raid BossPT13M30S5p0,5840,5840p1,3901,3901p2,6402,1553p3,7826,2515p4,6004,1797p5,1439,250p6,19895,1979p7,15923,3704p8,0,0p9,0,0PT14M0S5p0,5840,5840p1,4656,4656p2,6477,1553p3,8300,2989p4,6604,1797p5,1439,250p6,23661,2757p7,16584,3704p8,0,0p9,0,0PT14M0S6p4,1,3,2,22,p2,2,3,4,23,p6,3,0,1,72,p3,5,0,3,17,p7,2,2,3,39,p5,0,1,1,6PT14M12S4p1PT14M30S5p0,5840,5840p1,4841,4841p2,7198,1553p3,8300,2989p4,6604,1797p5,1439,250p6,25078,2757p7,16584,3704p8,0,0p9,0,0PT14M35S8p2,Holy TrinityPT14M53S4p1PT15M0S5p0,6109,6109p1,5611,5611p2,7198,1553p3,9387,3326p4,7158,1797p5,1439,250p6,27216,3465p7,16584,3704p8,0,0p9,0,0PT15M0S6p4,1,4,2,24,p2,2,4,4,25,p6,4,0,1,78,p3,5,0,4,18,p7,2,2,3,39,p5,0,1,1,6PT15M30S5p0,6323,6323p1,6193,6193p2,8120,1678p3,9807,3426p4,8212,2227p5,1439,250p6,29335,3465p7,16584,3704p8,0,0p9,0,0PT15M54S4p1PT16M0S5p0,6482,6482p1,6491,6491p2,9843,2013p3,9807,3426p4,8900,2292p5,1439,250p6,29491,3465p7,16584,3704p8,0,0p9,0,0PT16M0S6p4,1,4,2,26,p2,3,4,4,31,p6,4,1,1,88,p3,5,0,5,20,p7,2,2,3,39,p5,0,1,1,6PT16M30S5p0,6715,6715p1,6801,6801p2,10995,2679p3,10865,4034p4,9875,3023p5,1439,250p6,29890,3465p7,16584,3704p8,0,0p9,0,0PT17M0S5p0,7256,7256p1,7028,7028p2,12520,3345p3,11260,4271p4,10769,3088p5,1439,250p6,32693,3465p7,16584,3704p8,0,0p9,0,0PT17M0S6p4,2,4,2,28,p2,4,4,4,32,p6,4,3,1,95,p3,5,0,7,21,p7,2,2,3,39,p5,0,1,1,6PT17M5S7p7PT17M13S4p1PT17M30S5p0,7256,7256p1,7028,7028p2,13855,3870p3,12084,5095p4,11855,3908p5,1439,250p6,34675,3465p7,16584,3704p8,0,0p9,0,0PT17M51S3p0PT17M51S5p0,7273,7273p1,7306,7306p2,14475,3870p3,12650,5661p4,12226,3908p5,1439,250p6,37819,3465p7,16584,3704p8,0,0p9,0,0PT17M51S6p4,2,4,2,28,p2,5,4,5,32,p6,4,4,1,108,p3,6,0,8,21,p7,2,3,3,39,p5,0,1,1,6\n"
     ]
    }
   ],
   "source": [
    "def clean(file_content: str) -> str:\n",
    "    valid_lines = [line.strip() for line in file_content.split(\"\\n\") if line.startswith(\"//\")]\n",
    "    cleaned_lines = [line[2:len(line) - 3] for line in valid_lines]\n",
    "    return \"\".join(cleaned_lines)\n",
    "\n",
    "print(clean(sample))"
   ]
  },
  {
   "cell_type": "code",
   "execution_count": 4,
   "id": "e53a7466-e58d-4330-9e82-c4e51096d4a6",
   "metadata": {},
   "outputs": [
    {
     "name": "stdout",
     "output_type": "stream",
     "text": [
      "Schema version: 0\n",
      "Event(timestamp=datetime.timedelta(0), event_type=2, player=2, context=['Cokemonkey11#1442'])\n"
     ]
    }
   ],
   "source": [
    "from dataclasses import dataclass\n",
    "import datetime\n",
    "import isodate\n",
    "import warnings\n",
    "\n",
    "SchemaVersion = int\n",
    "\n",
    "EVENT_TYPE = {\n",
    "    0: \"None\",\n",
    "    1: \"ChooseHero\",\n",
    "    2: \"Identify\",\n",
    "    3: \"Win\",\n",
    "    4: \"TowerDeath\",\n",
    "    5: \"DamageSnapshot\",\n",
    "    6: \"StatSnapshot\",\n",
    "    7: \"PlayerLeave\",\n",
    "    8: \"GetItem\",\n",
    "}\n",
    "\n",
    "@dataclass\n",
    "class Event:\n",
    "    timestamp: datetime.timedelta\n",
    "    event_type: int\n",
    "    player: int\n",
    "    context: list[str]\n",
    "\n",
    "def parse_damage_snapshot(chunk: str) -> Event:\n",
    "    timestamp = chunk.split(\"S5\")[0] + \"S\"\n",
    "    context = chunk.split(\"S5\")[1]\n",
    "\n",
    "    return Event(timestamp=isodate.parse_duration(\"PT\" + timestamp), event_type=5, player=-1, context=[context])\n",
    "\n",
    "def parse_stat_snapshot(chunk: str) -> Event:\n",
    "    timestamp = chunk.split(\"S6\")[0] + \"S\"\n",
    "    context = chunk.split(\"S6\")[1]\n",
    "\n",
    "    return Event(timestamp=isodate.parse_duration(\"PT\" + timestamp), event_type=6, player=-1, context=[context])\n",
    "\n",
    "def parse(code: str) -> tuple[SchemaVersion, list[Event]]:\n",
    "    chunks = code.split(\"PT\") # TODO: use a streaming parser.\n",
    "\n",
    "    schema_version = int(chunks[0][1:])\n",
    "\n",
    "    events = []\n",
    "\n",
    "    for chunk in chunks[1:]:\n",
    "        if \"S5\" in chunk:\n",
    "            events.append(parse_damage_snapshot(chunk))\n",
    "            continue\n",
    "\n",
    "        if \"S6\" in chunk:\n",
    "            events.append(parse_stat_snapshot(chunk))\n",
    "            continue\n",
    "\n",
    "        timestamp_split = chunk.split(\"p\")\n",
    "\n",
    "        if not \"S\" in timestamp_split[0] and timestamp_split[0][0] == \"0\":\n",
    "            timestamp_split[0] = timestamp_split[0][0] + \"S\" + timestamp_split[0][1:]\n",
    "\n",
    "        if len(timestamp_split) == 1:\n",
    "            warnings.warn(f\"Skipped {chunk} as malformed\")\n",
    "            continue\n",
    "\n",
    "        timestamp = timestamp_split[0].split(\"S\")[0] + \"S\"\n",
    "\n",
    "        event_type = timestamp_split[0].split(\"S\")[1]\n",
    "\n",
    "        other = \"\".join(timestamp_split[1:])\n",
    "\n",
    "        if \"S\" in timestamp and not timestamp.endswith(\"S\") and len(timestamp.split(\"S\")) == 2:\n",
    "            timestamp_reproc = timestamp.split(\"S\")\n",
    "            timestamp = timestamp_reproc[0] + \"S\"\n",
    "\n",
    "            other = timestamp_reproc[1] + \",\" + other\n",
    "\n",
    "        player_split = other.split(\",\")\n",
    "\n",
    "        player = player_split[0]\n",
    "\n",
    "        context = player_split[1:]\n",
    "\n",
    "        timestamp_suffix = \"\" if timestamp.endswith(\"S\") else \"S\"\n",
    "\n",
    "        if event_type == '5':\n",
    "            print(chunk)\n",
    "\n",
    "        events.append(Event(timestamp=isodate.parse_duration(\"PT\" + timestamp + timestamp_suffix), event_type=int(event_type), player=int(player), context=context))\n",
    "\n",
    "    return (schema_version, events)\n",
    "\n",
    "schema_version, events = parse(clean(sample))\n",
    "print(f\"Schema version: {schema_version}\")\n",
    "\n",
    "print(str(events[0]))\n"
   ]
  },
  {
   "cell_type": "code",
   "execution_count": 5,
   "id": "93a65e2e-af64-4ca1-b7c9-0bdcaa680140",
   "metadata": {},
   "outputs": [
    {
     "name": "stdout",
     "output_type": "stream",
     "text": [
      "[\"['Cokemonkey11#1442']\", \"['redscores#2996']\", \"['TrickyHunter#1503684']\", \"['Dizzy#12119']\", \"['Eldrazor#2435']\", \"['Davout#11186']\", \"['Sace Cadet']\", \"['Starter Circlet']\", \"['Tauren Gladiator']\", \"['Starter Circlet']\", \"['Sace Cadet']\", \"['Starter Circlet']\", \"['p0,0,0p1,0,0p2,0,0p3,0,0p4,0,0p5,0,0p6,0,0p7,0,0p8,0,0p9,0,0']\", \"['Mongo']\", \"['Starter Circlet']\", \"['Mongo']\", \"['Starter Circlet']\", \"['p0,0,0p1,0,0p2,0,0p3,0,0p4,0,0p5,0,0p6,0,0p7,0,0p8,0,0p9,0,0']\", \"['p4,0,0,0,0,p2,0,0,0,0,p6,0,0,0,0,p3,0,0,0,0,p7,0,0,0,0,p5,0,0,0,0']\", \"['Amulet']\", \"['Pig']\", \"['Molotov Cockatiel']\", \"['Starter Circlet']\", \"['p0,149,149p1,0,0p2,0,0p3,112,0p4,49,0p5,0,0p6,0,0p7,436,0p8,0,0p9,0,0']\", \"['Amulet']\", \"['p0,550,550p1,87,87p2,130,130p3,913,225p4,196,0p5,53,0p6,198,53p7,1308,364p8,0,0p9,0,0']\", \"['p4,0,0,0,1,p2,0,0,0,0,p6,0,0,0,1,p3,0,0,0,1,p7,0,0,0,1,p5,0,0,0,0']\", \"['p0,936,936p1,374,374p2,183,130p3,1138,391p4,196,0p5,212,0p6,715,221p7,2520,364p8,0,0p9,0,0']\", \"['p0,1101,1101p1,804,804p2,183,130p3,1138,391p4,661,209p5,350,75p6,1057,384p7,3308,420p8,0,0p9,0,0']\", \"['p4,0,0,0,2,p2,0,0,1,0,p6,1,0,0,6,p3,1,0,0,1,p7,0,0,0,6,p5,0,0,1,2']\", '[]', \"['p0,1119,1119p1,914,914p2,349,130p3,1138,391p4,917,365p5,350,75p6,1272,384p7,3622,520p8,0,0p9,0,0']\", \"['p0,1241,1241p1,1129,1129p2,641,264p3,1204,457p4,967,365p5,481,150p6,2111,482p7,4148,578p8,0,0p9,0,0']\", \"['p4,0,0,0,3,p2,0,0,1,1,p6,1,0,0,14,p3,1,0,0,1,p7,0,0,0,10,p5,0,0,1,2']\", \"['Gem']\", \"['p0,2083,2083p1,1197,1197p2,997,369p3,1990,996p4,1179,577p5,1207,250p6,2171,542p7,5119,1110p8,0,0p9,0,0']\", \"['p0,2238,2238p1,1197,1197p2,1067,369p3,2113,996p4,1523,577p5,1439,250p6,2171,542p7,5379,1110p8,0,0p9,0,0']\", \"['p4,0,0,1,5,p2,0,0,2,2,p6,1,0,0,14,p3,2,0,0,2,p7,1,0,0,12,p5,0,0,1,6']\", '[]', \"['p0,2377,2377p1,1284,1284p2,1369,505p3,2713,996p4,1736,577p5,1439,250p6,3225,542p7,5841,1318p8,0,0p9,0,0']\", \"['p0,2582,2582p1,1427,1427p2,1878,641p3,3247,1068p4,2106,843p5,1439,250p6,4282,542p7,6923,1704p8,0,0p9,0,0']\", \"['p4,0,0,2,7,p2,0,0,2,6,p6,1,0,0,20,p3,2,0,0,6,p7,2,0,0,15,p5,0,0,1,6']\", \"['p0,2762,2762p1,1564,1564p2,2550,641p3,3247,1068p4,2106,843p5,1439,250p6,4436,542p7,8057,1704p8,0,0p9,0,0']\", \"['p0,2762,2762p1,1864,1864p2,3107,641p3,3247,1068p4,2486,843p5,1439,250p6,6002,542p7,8057,1704p8,0,0p9,0,0']\", \"['p4,0,0,2,10,p2,0,0,2,12,p6,1,0,0,27,p3,2,0,0,6,p7,2,0,0,15,p5,0,0,1,6']\", \"['p0,2960,2960p1,1967,1967p2,3317,851p3,3883,1440p4,3038,843p5,1439,250p6,7181,542p7,8215,1704p8,0,0p9,0,0']\", '[]', \"['Socks']\", \"['p0,3296,3296p1,2249,2249p2,3317,851p3,4212,1440p4,3277,977p5,1439,250p6,8854,542p7,9303,1972p8,0,0p9,0,0']\", \"['p4,0,0,2,13,p2,0,0,3,12,p6,1,0,0,35,p3,3,0,0,8,p7,2,0,0,19,p5,0,0,1,6']\", \"['p0,3561,3561p1,2277,2277p2,3632,851p3,4212,1440p4,3277,977p5,1439,250p6,8854,542p7,10138,1972p8,0,0p9,0,0']\", \"['p0,3775,3775p1,2482,2482p2,4050,851p3,4606,1440p4,3459,977p5,1439,250p6,8913,542p7,10199,1972p8,0,0p9,0,0']\", \"['p4,0,0,2,13,p2,0,0,3,16,p6,1,0,0,36,p3,3,0,0,9,p7,2,0,0,23,p5,0,0,1,6']\", \"['p0,3969,3969p1,2929,2929p2,4547,851p3,4855,1590p4,4112,977p5,1439,250p6,11041,852p7,10199,1972p8,0,0p9,0,0']\", '[]', \"['p0,4114,4114p1,3032,3032p2,5583,1376p3,4855,1590p4,4526,977p5,1439,250p6,13207,852p7,11026,2677p8,0,0p9,0,0']\", \"['p4,0,1,2,18,p2,1,1,3,19,p6,2,0,0,47,p3,3,0,1,9,p7,2,0,1,23,p5,0,0,1,6']\", \"['p0,4159,4159p1,3202,3202p2,5583,1376p3,5405,1940p4,5132,1584p5,1439,250p6,13207,852p7,11026,2677p8,0,0p9,0,0']\", \"['p0,4304,4304p1,3267,3267p2,5583,1376p3,5405,1940p4,5345,1797p5,1439,250p6,15504,1169p7,11409,3060p8,0,0p9,0,0']\", \"['p4,1,1,2,18,p2,1,2,4,19,p6,2,0,0,51,p3,4,0,1,9,p7,2,1,2,23,p5,0,0,1,6']\", '[]', \"['p0,4304,4304p1,3267,3267p2,5583,1376p3,5614,1940p4,5345,1797p5,1439,250p6,15504,1169p7,11579,3060p8,0,0p9,0,0']\", '[]', \"['p0,5042,5042p1,3359,3359p2,5583,1376p3,6174,1940p4,5345,1797p5,1439,250p6,16071,1169p7,12367,3060p8,0,0p9,0,0']\", \"['p4,1,1,2,18,p2,1,2,4,19,p6,2,0,0,53,p3,4,0,1,12,p7,2,1,2,26,p5,0,0,1,6']\", \"['p0,5407,5407p1,3419,3419p2,5760,1553p3,6883,2515p4,5412,1797p5,1439,250p6,16937,1540p7,14363,3060p8,0,0p9,0,0']\", \"['Hat']\", \"['p0,5444,5444p1,3489,3489p2,5760,1553p3,6950,2515p4,5757,1797p5,1439,250p6,18961,1540p7,14363,3060p8,0,0p9,0,0']\", \"['p4,1,2,2,19,p2,2,2,4,19,p6,2,0,1,63,p3,5,0,2,13,p7,2,2,3,33,p5,0,1,1,6']\", \"['Raid Boss']\", \"['p0,5840,5840p1,3901,3901p2,6402,1553p3,7826,2515p4,6004,1797p5,1439,250p6,19895,1979p7,15923,3704p8,0,0p9,0,0']\", \"['p0,5840,5840p1,4656,4656p2,6477,1553p3,8300,2989p4,6604,1797p5,1439,250p6,23661,2757p7,16584,3704p8,0,0p9,0,0']\", \"['p4,1,3,2,22,p2,2,3,4,23,p6,3,0,1,72,p3,5,0,3,17,p7,2,2,3,39,p5,0,1,1,6']\", '[]', \"['p0,5840,5840p1,4841,4841p2,7198,1553p3,8300,2989p4,6604,1797p5,1439,250p6,25078,2757p7,16584,3704p8,0,0p9,0,0']\", \"['Holy Trinity']\", '[]', \"['p0,6109,6109p1,5611,5611p2,7198,1553p3,9387,3326p4,7158,1797p5,1439,250p6,27216,3465p7,16584,3704p8,0,0p9,0,0']\", \"['p4,1,4,2,24,p2,2,4,4,25,p6,4,0,1,78,p3,5,0,4,18,p7,2,2,3,39,p5,0,1,1,6']\", \"['p0,6323,6323p1,6193,6193p2,8120,1678p3,9807,3426p4,8212,2227p5,1439,250p6,29335,3465p7,16584,3704p8,0,0p9,0,0']\", '[]', \"['p0,6482,6482p1,6491,6491p2,9843,2013p3,9807,3426p4,8900,2292p5,1439,250p6,29491,3465p7,16584,3704p8,0,0p9,0,0']\", \"['p4,1,4,2,26,p2,3,4,4,31,p6,4,1,1,88,p3,5,0,5,20,p7,2,2,3,39,p5,0,1,1,6']\", \"['p0,6715,6715p1,6801,6801p2,10995,2679p3,10865,4034p4,9875,3023p5,1439,250p6,29890,3465p7,16584,3704p8,0,0p9,0,0']\", \"['p0,7256,7256p1,7028,7028p2,12520,3345p3,11260,4271p4,10769,3088p5,1439,250p6,32693,3465p7,16584,3704p8,0,0p9,0,0']\", \"['p4,2,4,2,28,p2,4,4,4,32,p6,4,3,1,95,p3,5,0,7,21,p7,2,2,3,39,p5,0,1,1,6']\", '[]', '[]', \"['p0,7256,7256p1,7028,7028p2,13855,3870p3,12084,5095p4,11855,3908p5,1439,250p6,34675,3465p7,16584,3704p8,0,0p9,0,0']\", '[]', \"['p0,7273,7273p1,7306,7306p2,14475,3870p3,12650,5661p4,12226,3908p5,1439,250p6,37819,3465p7,16584,3704p8,0,0p9,0,0']\", \"['p4,2,4,2,28,p2,5,4,5,32,p6,4,4,1,108,p3,6,0,8,21,p7,2,3,3,39,p5,0,1,1,6']\"]\n"
     ]
    }
   ],
   "source": [
    "print([str(event.context) for event in events])"
   ]
  },
  {
   "cell_type": "code",
   "execution_count": 6,
   "id": "34f91316-abf7-4a7d-a68a-1408bca4d04c",
   "metadata": {},
   "outputs": [],
   "source": [
    "import json\n",
    "\n",
    "with open(\"cleaned.json\", \"w\") as f:\n",
    "    f.write(json.dumps([event.__dict__ for event in events], default=str))"
   ]
  },
  {
   "cell_type": "code",
   "execution_count": 7,
   "id": "c032baeb-f206-4458-9f48-560c6af3f109",
   "metadata": {},
   "outputs": [
    {
     "name": "stdout",
     "output_type": "stream",
     "text": [
      "Event(timestamp=datetime.timedelta(0), event_type=2, player=2, context=['Cokemonkey11#1442'])\n",
      "(2, 'Cokemonkey11')\n",
      "Event(timestamp=datetime.timedelta(seconds=5), event_type=1, player=4, context=['Sace Cadet'])\n",
      "(4, 'Sace Cadet')\n"
     ]
    }
   ],
   "source": [
    "# Player identity mapping\n",
    "# TODO: something is broken for name-processing when name contains \"p\" i.e. \"lep\"\n",
    "player_identity_events = [event for event in events if event.event_type == 2]\n",
    "print(player_identity_events[0])\n",
    "player_identities = {identity_event.player: identity_event.context[0].split('#')[0] for identity_event in player_identity_events}\n",
    "print(list(player_identities.items())[0])\n",
    "\n",
    "# Player hero choice mapping\n",
    "hero_choice_events = [event for event in events if event.event_type == 1]\n",
    "print(hero_choice_events[0])\n",
    "player_heroes = {hero_event.player: hero_event.context[0] for hero_event in hero_choice_events}\n",
    "print(list(player_heroes.items())[0])"
   ]
  },
  {
   "cell_type": "code",
   "execution_count": 8,
   "id": "3e98f179-ad9c-4669-acd6-7c90cb6755fa",
   "metadata": {},
   "outputs": [
    {
     "name": "stdout",
     "output_type": "stream",
     "text": [
      "p0,0,0p1,0,0p2,0,0p3,0,0p4,0,0p5,0,0p6,0,0p7,0,0p8,0,0p9,0,0\n",
      "{'0': ('0', '0'), '1': ('0', '0'), '2': ('0', '0'), '3': ('0', '0'), '4': ('0', '0'), '5': ('0', '0'), '6': ('0', '0'), '7': ('0', '0'), '8': ('0', '0'), '9': ('0', '0')}\n"
     ]
    }
   ],
   "source": [
    "# Damage graph\n",
    "# !pip install matplotlib pandas seaborn\n",
    "import matplotlib.pyplot as pyplot\n",
    "import pandas\n",
    "import seaborn\n",
    "\n",
    "damage_snapshot_events = [event for event in events if event.event_type == 5]\n",
    "print(damage_snapshot_events[0].context[0])\n",
    "\n",
    "def parse_damage_snapshot_context(context: str) -> dict[int, tuple[int, int]]:\n",
    "    by_player = [cxt for cxt in context.split('p') if len(cxt)]\n",
    "    ret = {}\n",
    "    for triple in by_player:\n",
    "        ret[triple.split(',')[0]] = (triple.split(',')[1], triple.split(',')[2])\n",
    "\n",
    "    return ret\n",
    "\n",
    "print(parse_damage_snapshot_context(damage_snapshot_events[0].context[0]))\n",
    "\n",
    "data ={'time': [], 'player': [], 'damage': [], 'hero_damage': []}\n",
    "\n",
    "for damage_event_snapshot in damage_snapshot_events:\n",
    "    for player, (damage, hero_damage) in parse_damage_snapshot_context(damage_event_snapshot.context[0]).items():\n",
    "        if (int(damage) > 0 or int(hero_damage) > 0) and (int(player) > 1):\n",
    "            player_name = f\"{int(player) + 1} {player_identities.get(int(player))} ({player_heroes.get(int(player))})\"\n",
    "            data['time'].append(damage_event_snapshot.timestamp.total_seconds() / 60.0)\n",
    "            data['player'].append(player_name)\n",
    "            data['damage'].append(int(damage))\n",
    "            data['hero_damage'].append(int(hero_damage))\n",
    "\n",
    "df = pandas.DataFrame(data)\n",
    "\n",
    "seaborn.set_theme(style=\"dark\", palette='pastel', context='notebook')\n",
    "\n",
    "seaborn.lineplot(data=df, x='time', y='damage', hue='player', marker='o')\n",
    "pyplot.title('Cumulative damage over time by player')\n",
    "pyplot.xlabel('Time (minutes)')\n",
    "pyplot.ylabel('Cumulative damage')\n",
    "pyplot.savefig('damage.png', format='png', dpi=200)\n",
    "pyplot.close()\n",
    "\n",
    "# Hero damage\n",
    "seaborn.lineplot(data=df, x='time', y='hero_damage', hue='player', marker='o')\n",
    "pyplot.title('Damage dealt to enemy heroes, cumulative over time by player')\n",
    "pyplot.xlabel('Time (minutes)')\n",
    "pyplot.ylabel('Cumulative hero damage')\n",
    "pyplot.savefig('hero_damage.png', format='png', dpi=200)\n",
    "pyplot.close()"
   ]
  },
  {
   "cell_type": "code",
   "execution_count": 9,
   "id": "ac6d8349-c036-4076-8225-c700a2265ae7",
   "metadata": {},
   "outputs": [
    {
     "name": "stdout",
     "output_type": "stream",
     "text": [
      "Event(timestamp=datetime.timedelta(seconds=196), event_type=4, player=0, context=[])\n",
      "[[datetime.timedelta(seconds=196), datetime.timedelta(seconds=701)], [datetime.timedelta(seconds=455), datetime.timedelta(seconds=584), datetime.timedelta(seconds=667), datetime.timedelta(seconds=852), datetime.timedelta(seconds=893), datetime.timedelta(seconds=954), datetime.timedelta(seconds=1033)]]\n"
     ]
    }
   ],
   "source": [
    "# Tower death events\n",
    "tower_death_events = [event for event in events if event.event_type == 4]\n",
    "print(tower_death_events[0])\n",
    "\n",
    "tower_deaths = [[], []]  # Which timestamps did towers die for players 0, 1?\n",
    "\n",
    "for event in tower_death_events:\n",
    "    tower_deaths[event.player].append(event.timestamp)\n",
    "\n",
    "print(tower_deaths)"
   ]
  },
  {
   "cell_type": "code",
   "execution_count": 10,
   "id": "eec8f807-f71b-4f27-b8b2-bb0b70ef02f1",
   "metadata": {},
   "outputs": [
    {
     "name": "stdout",
     "output_type": "stream",
     "text": [
      "p4,0,0,0,0,p2,0,0,0,0,p6,0,0,0,0,p3,0,0,0,0,p7,0,0,0,0,p5,0,0,0,0\n",
      "{'4': ('0', '0', '0', '0'), '2': ('0', '0', '0', '0'), '6': ('0', '0', '0', '0'), '3': ('0', '0', '0', '0'), '7': ('0', '0', '0', '0'), '5': ('0', '0', '0', '0')}\n"
     ]
    }
   ],
   "source": [
    "# Resource graph\n",
    "\n",
    "stat_snapshot_events = [event for event in events if event.event_type == 6]\n",
    "print(stat_snapshot_events[0].context[0])\n",
    "\n",
    "def parse_stat_snapshot_context(context: str) -> dict[int, tuple[int, int, int, int]]:\n",
    "    by_player = [cxt for cxt in context.split('p') if len(cxt)]\n",
    "    ret = {}\n",
    "    for triple in by_player:\n",
    "        ret[triple.split(',')[0]] = (triple.split(',')[1], triple.split(',')[2], triple.split(',')[3], triple.split(',')[4])\n",
    "\n",
    "    return ret\n",
    "\n",
    "print(parse_stat_snapshot_context(stat_snapshot_events[0].context[0]))\n",
    "\n",
    "data ={'time': [], 'player_id': [], 'player': [], 'kills': [], 'assists': [], 'deaths': [], 'cs': [], 'gold_earned': []}\n",
    "\n",
    "for stat_event_snapshot in stat_snapshot_events:\n",
    "    for player, (kills, assists, deaths, cs) in parse_stat_snapshot_context(stat_event_snapshot.context[0]).items():\n",
    "        if (int(kills) > 0 or int(assists) > 0 or int(deaths) > 0 or int(cs) > 0) and (int(player) > 1):\n",
    "            time = stat_event_snapshot.timestamp\n",
    "            tower_deaths_so_far = len([death for death in tower_deaths[1 - (int(player) % 2)] if death < time])\n",
    "\n",
    "            player_name = f\"{int(player) + 1} {player_identities.get(int(player))} ({player_heroes.get(int(player))})\"\n",
    "            data['time'].append(stat_event_snapshot.timestamp.total_seconds() / 60.0)\n",
    "            data['player_id'].append(int(player))\n",
    "            data['player'].append(player_name)\n",
    "            data['kills'].append(int(kills))\n",
    "            data['assists'].append(int(assists))\n",
    "            data['deaths'].append(int(deaths))\n",
    "            data['cs'].append(int(cs))\n",
    "            data['gold_earned'].append(int(kills) * 10 + int(assists) * 5 + int(cs) + 10 * tower_deaths_so_far)\n",
    "\n",
    "df = pandas.DataFrame(data)\n",
    "\n",
    "unique_players = df['player_id'].unique()\n",
    "\n",
    "colors = {\n",
    "    player_id: seaborn.color_palette(\"Reds\", n_colors=len(unique_players))[i//2]\n",
    "    if player_id % 2 == 0\n",
    "    else seaborn.color_palette(\"Blues\", n_colors=len(unique_players))[i//2]\n",
    "    for i, player_id in enumerate(sorted(unique_players))\n",
    "}\n",
    "\n",
    "name_to_color = {name: colors[id] for name, id in zip(df['player'], df['player_id'])}\n",
    "\n",
    "seaborn.set_theme(style=\"dark\", palette='pastel', context='notebook')\n",
    "\n",
    "seaborn.lineplot(data=df, x='time', y='gold_earned', hue='player', palette=name_to_color, marker='o')\n",
    "pyplot.title('Cumulative gold (earned) over time by player')\n",
    "pyplot.xlabel('Time (minutes)')\n",
    "pyplot.ylabel('Cumulative gold (earned)')\n",
    "\n",
    "for time in tower_deaths[0]:\n",
    "    pyplot.axvline(x=time.total_seconds() / 60.0, color='red', linestyle='--', linewidth=0.5)\n",
    "    pyplot.text(time.total_seconds() / 60.0, 1, 'West tower death', color='red', horizontalalignment='right', fontsize=4, rotation=15)\n",
    "\n",
    "for time in tower_deaths[1]:\n",
    "    pyplot.axvline(x=time.total_seconds() / 60.0, color='blue', linestyle='--', linewidth=0.5)\n",
    "    pyplot.text(time.total_seconds() / 60.0, 1, 'East tower death', color='blue', horizontalalignment='right', fontsize=4, rotation=15)\n",
    "\n",
    "victories = [event for event in events if event.event_type == 3]\n",
    "if len(victories):\n",
    "    redblue = 'red' if victories[0].player == 0 else 'blue'\n",
    "    westeast = 'West' if victories[0].player == 0 else 'East'\n",
    "    pyplot.axvline(x=time.total_seconds() / 60.0, color=redblue, linestyle='--', linewidth=0.5)\n",
    "    pyplot.text(time.total_seconds() / 60.0, 1, f'{westeast} victory', color='blue', horizontalalignment='right', fontsize=4, rotation=15)\n",
    "\n",
    "pyplot.savefig('gold.png', format='png', dpi=200)\n",
    "pyplot.close()"
   ]
  }
 ],
 "metadata": {
  "kernelspec": {
   "display_name": "Python 3 (ipykernel)",
   "language": "python",
   "name": "python3"
  },
  "language_info": {
   "codemirror_mode": {
    "name": "ipython",
    "version": 3
   },
   "file_extension": ".py",
   "mimetype": "text/x-python",
   "name": "python",
   "nbconvert_exporter": "python",
   "pygments_lexer": "ipython3",
   "version": "3.12.3"
  }
 },
 "nbformat": 4,
 "nbformat_minor": 5
}
